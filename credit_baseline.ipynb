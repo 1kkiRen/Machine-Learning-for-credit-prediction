{
  "cells": [
    {
      "cell_type": "code",
      "execution_count": null,
      "metadata": {
        "id": "pL4Oz6ftMQhS"
      },
      "outputs": [],
      "source": [
        "!pip3 install scikit-learn==1.0 -U\n",
        "!pip install imblearn\n",
        "!pip install pymorphy2\n",
        "!pip install optuna"
      ]
    },
    {
      "cell_type": "code",
      "execution_count": null,
      "metadata": {
        "colab": {
          "base_uri": "https://localhost:8080/"
        },
        "id": "zUV-FkptLLvn",
        "outputId": "e99be45f-5360-48ce-fe20-ea85934e155d"
      },
      "outputs": [
        {
          "name": "stdout",
          "output_type": "stream",
          "text": [
            "[nltk_data] Downloading package punkt to /root/nltk_data...\n",
            "[nltk_data]   Unzipping tokenizers/punkt.zip.\n"
          ]
        }
      ],
      "source": [
        "import pandas as pd\n",
        "from sklearn.tree import DecisionTreeClassifier\n",
        "from sklearn.ensemble import RandomForestClassifier\n",
        "from sklearn.model_selection import cross_val_score\n",
        "from sklearn.model_selection import train_test_split\n",
        "from sklearn.model_selection import cross_val_score\n",
        "from sklearn.model_selection import GridSearchCV\n",
        "from sklearn.metrics import accuracy_score\n",
        "from sklearn.metrics import f1_score\n",
        "\n",
        "from sklearn.metrics import make_scorer\n",
        "\n",
        "from sklearn.tree import DecisionTreeClassifier\n",
        "from sklearn.linear_model import LogisticRegression\n",
        "\n",
        "\n",
        "from sklearn.neural_network import MLPClassifier\n",
        "from imblearn.ensemble import BalancedBaggingClassifier\n",
        "from sklearn.neighbors import KNeighborsClassifier\n",
        "from sklearn.ensemble import BaggingClassifier\n",
        "from sklearn.svm import SVC\n",
        "from sklearn.gaussian_process import GaussianProcessClassifier\n",
        "from sklearn.gaussian_process.kernels import RBF\n",
        "from sklearn.tree import DecisionTreeClassifier\n",
        "from sklearn.ensemble import RandomForestClassifier, AdaBoostClassifier, GradientBoostingClassifier\n",
        "from sklearn.naive_bayes import GaussianNB\n",
        "from sklearn.discriminant_analysis import QuadraticDiscriminantAnalysis\n",
        "import xgboost as xgb\n",
        "\n",
        "from tqdm import tqdm\n",
        "\n",
        "from imblearn.ensemble import BalancedRandomForestClassifier\n",
        "from imblearn.ensemble import RUSBoostClassifier\n",
        "from imblearn.ensemble import EasyEnsembleClassifier\n",
        "\n",
        "from sklearn.feature_extraction.text import CountVectorizer\n",
        "from imblearn.over_sampling import BorderlineSMOTE\n",
        "from imblearn.over_sampling import SMOTE\n",
        "from imblearn.over_sampling import ADASYN\n",
        "from imblearn.over_sampling import SMOTEN\n",
        "from imblearn.over_sampling import SVMSMOTE\n",
        "from imblearn.over_sampling import BorderlineSMOTE\n",
        "from imblearn.over_sampling import SMOTEN\n",
        "\n",
        "from imblearn.over_sampling import RandomOverSampler \n",
        "\n",
        "from imblearn.under_sampling import RandomUnderSampler\n",
        "\n",
        "from imblearn.under_sampling import RandomUnderSampler\n",
        "from imblearn.under_sampling import NeighbourhoodCleaningRule\n",
        "\n",
        "from sklearn.preprocessing import normalize\n",
        "from sklearn.preprocessing import PowerTransformer\n",
        "from sklearn.preprocessing import StandardScaler\n",
        "from sklearn.preprocessing import MinMaxScaler\n",
        "from sklearn.preprocessing import LabelEncoder\n",
        "from sklearn.preprocessing import OrdinalEncoder\n",
        "from sklearn.preprocessing import OneHotEncoder\n",
        "\n",
        "import numpy as np\n",
        "\n",
        "from sklearn.feature_extraction.text import TfidfVectorizer\n",
        "\n",
        "import nltk\n",
        "from nltk.stem import WordNetLemmatizer, SnowballStemmer\n",
        "from nltk.tokenize import sent_tokenize, word_tokenize\n",
        "nltk.download('punkt')\n",
        "\n",
        "import pymorphy2\n",
        "import optuna\n",
        "\n",
        "import lightgbm"
      ]
    },
    {
      "cell_type": "code",
      "execution_count": null,
      "metadata": {
        "id": "s9SN8Efy5J-5"
      },
      "outputs": [],
      "source": [
        "def sort(arr, n):\n",
        "    for i in range(1, n):\n",
        "        temp = arr[i] \n",
        "        j = i - 1\n",
        "        while j >= 0 and len(temp) > len(arr[j]):\n",
        "            arr[j + 1] = arr[j]\n",
        "            j -= 1\n",
        " \n",
        "        arr[j + 1] = temp"
      ]
    },
    {
      "cell_type": "markdown",
      "metadata": {
        "id": "Oy1fS2N5LLvq"
      },
      "source": [
        "Откроем файл с данными."
      ]
    },
    {
      "cell_type": "code",
      "execution_count": null,
      "metadata": {
        "id": "V_HO_Ex0LLvs"
      },
      "outputs": [],
      "source": [
        "df = pd.read_csv('credit_train.csv', index_col='id')"
      ]
    },
    {
      "cell_type": "code",
      "execution_count": null,
      "metadata": {
        "colab": {
          "base_uri": "https://localhost:8080/",
          "height": 371
        },
        "id": "hbCZ3Cq_LLvt",
        "outputId": "0300ed6d-6105-49e7-e290-f456bb1673e9"
      },
      "outputs": [
        {
          "data": {
            "text/html": [
              "\n",
              "  <div id=\"df-486af841-9b4f-4d39-9f54-c2768beecc44\">\n",
              "    <div class=\"colab-df-container\">\n",
              "      <div>\n",
              "<style scoped>\n",
              "    .dataframe tbody tr th:only-of-type {\n",
              "        vertical-align: middle;\n",
              "    }\n",
              "\n",
              "    .dataframe tbody tr th {\n",
              "        vertical-align: top;\n",
              "    }\n",
              "\n",
              "    .dataframe thead th {\n",
              "        text-align: right;\n",
              "    }\n",
              "</style>\n",
              "<table border=\"1\" class=\"dataframe\">\n",
              "  <thead>\n",
              "    <tr style=\"text-align: right;\">\n",
              "      <th></th>\n",
              "      <th>gender</th>\n",
              "      <th>age</th>\n",
              "      <th>marital_status</th>\n",
              "      <th>credit_sum</th>\n",
              "      <th>credit_month</th>\n",
              "      <th>tariff_id</th>\n",
              "      <th>education</th>\n",
              "      <th>credit_count</th>\n",
              "      <th>overdue_credit_count</th>\n",
              "      <th>job_pos</th>\n",
              "      <th>credit_score</th>\n",
              "      <th>region</th>\n",
              "      <th>income</th>\n",
              "      <th>opened</th>\n",
              "    </tr>\n",
              "    <tr>\n",
              "      <th>id</th>\n",
              "      <th></th>\n",
              "      <th></th>\n",
              "      <th></th>\n",
              "      <th></th>\n",
              "      <th></th>\n",
              "      <th></th>\n",
              "      <th></th>\n",
              "      <th></th>\n",
              "      <th></th>\n",
              "      <th></th>\n",
              "      <th></th>\n",
              "      <th></th>\n",
              "      <th></th>\n",
              "      <th></th>\n",
              "    </tr>\n",
              "  </thead>\n",
              "  <tbody>\n",
              "    <tr>\n",
              "      <th>26031</th>\n",
              "      <td>M</td>\n",
              "      <td>24</td>\n",
              "      <td>UNM</td>\n",
              "      <td>24000,00</td>\n",
              "      <td>10</td>\n",
              "      <td>1.60</td>\n",
              "      <td>SCH</td>\n",
              "      <td>2.0</td>\n",
              "      <td>0.0</td>\n",
              "      <td>SPC</td>\n",
              "      <td>0,728851</td>\n",
              "      <td>ОБЛ ЛЕНИНГРАДСКАЯ</td>\n",
              "      <td>35000.0</td>\n",
              "      <td>True</td>\n",
              "    </tr>\n",
              "    <tr>\n",
              "      <th>148877</th>\n",
              "      <td>M</td>\n",
              "      <td>23</td>\n",
              "      <td>UNM</td>\n",
              "      <td>16339,00</td>\n",
              "      <td>18</td>\n",
              "      <td>1.10</td>\n",
              "      <td>SCH</td>\n",
              "      <td>2.0</td>\n",
              "      <td>0.0</td>\n",
              "      <td>SPC</td>\n",
              "      <td>0,347385</td>\n",
              "      <td>МОСКВА Г</td>\n",
              "      <td>38000.0</td>\n",
              "      <td>True</td>\n",
              "    </tr>\n",
              "    <tr>\n",
              "      <th>142019</th>\n",
              "      <td>M</td>\n",
              "      <td>54</td>\n",
              "      <td>UNM</td>\n",
              "      <td>15652,00</td>\n",
              "      <td>10</td>\n",
              "      <td>1.32</td>\n",
              "      <td>GRD</td>\n",
              "      <td>2.0</td>\n",
              "      <td>0.0</td>\n",
              "      <td>SPC</td>\n",
              "      <td>0,349705</td>\n",
              "      <td>ОБЛ МОСКОВСКАЯ</td>\n",
              "      <td>38000.0</td>\n",
              "      <td>True</td>\n",
              "    </tr>\n",
              "    <tr>\n",
              "      <th>146816</th>\n",
              "      <td>F</td>\n",
              "      <td>52</td>\n",
              "      <td>UNM</td>\n",
              "      <td>16560,00</td>\n",
              "      <td>10</td>\n",
              "      <td>1.10</td>\n",
              "      <td>SCH</td>\n",
              "      <td>1.0</td>\n",
              "      <td>0.0</td>\n",
              "      <td>SPC</td>\n",
              "      <td>0,359232</td>\n",
              "      <td>РЕСП МОРДОВИЯ</td>\n",
              "      <td>28000.0</td>\n",
              "      <td>False</td>\n",
              "    </tr>\n",
              "    <tr>\n",
              "      <th>27699</th>\n",
              "      <td>F</td>\n",
              "      <td>63</td>\n",
              "      <td>WID</td>\n",
              "      <td>9078,00</td>\n",
              "      <td>18</td>\n",
              "      <td>1.10</td>\n",
              "      <td>SCH</td>\n",
              "      <td>4.0</td>\n",
              "      <td>0.0</td>\n",
              "      <td>SPC</td>\n",
              "      <td>0,529368</td>\n",
              "      <td>ЧЕЛЯБИНСКАЯ ОБЛ</td>\n",
              "      <td>30000.0</td>\n",
              "      <td>False</td>\n",
              "    </tr>\n",
              "  </tbody>\n",
              "</table>\n",
              "</div>\n",
              "      <button class=\"colab-df-convert\" onclick=\"convertToInteractive('df-486af841-9b4f-4d39-9f54-c2768beecc44')\"\n",
              "              title=\"Convert this dataframe to an interactive table.\"\n",
              "              style=\"display:none;\">\n",
              "        \n",
              "  <svg xmlns=\"http://www.w3.org/2000/svg\" height=\"24px\"viewBox=\"0 0 24 24\"\n",
              "       width=\"24px\">\n",
              "    <path d=\"M0 0h24v24H0V0z\" fill=\"none\"/>\n",
              "    <path d=\"M18.56 5.44l.94 2.06.94-2.06 2.06-.94-2.06-.94-.94-2.06-.94 2.06-2.06.94zm-11 1L8.5 8.5l.94-2.06 2.06-.94-2.06-.94L8.5 2.5l-.94 2.06-2.06.94zm10 10l.94 2.06.94-2.06 2.06-.94-2.06-.94-.94-2.06-.94 2.06-2.06.94z\"/><path d=\"M17.41 7.96l-1.37-1.37c-.4-.4-.92-.59-1.43-.59-.52 0-1.04.2-1.43.59L10.3 9.45l-7.72 7.72c-.78.78-.78 2.05 0 2.83L4 21.41c.39.39.9.59 1.41.59.51 0 1.02-.2 1.41-.59l7.78-7.78 2.81-2.81c.8-.78.8-2.07 0-2.86zM5.41 20L4 18.59l7.72-7.72 1.47 1.35L5.41 20z\"/>\n",
              "  </svg>\n",
              "      </button>\n",
              "      \n",
              "  <style>\n",
              "    .colab-df-container {\n",
              "      display:flex;\n",
              "      flex-wrap:wrap;\n",
              "      gap: 12px;\n",
              "    }\n",
              "\n",
              "    .colab-df-convert {\n",
              "      background-color: #E8F0FE;\n",
              "      border: none;\n",
              "      border-radius: 50%;\n",
              "      cursor: pointer;\n",
              "      display: none;\n",
              "      fill: #1967D2;\n",
              "      height: 32px;\n",
              "      padding: 0 0 0 0;\n",
              "      width: 32px;\n",
              "    }\n",
              "\n",
              "    .colab-df-convert:hover {\n",
              "      background-color: #E2EBFA;\n",
              "      box-shadow: 0px 1px 2px rgba(60, 64, 67, 0.3), 0px 1px 3px 1px rgba(60, 64, 67, 0.15);\n",
              "      fill: #174EA6;\n",
              "    }\n",
              "\n",
              "    [theme=dark] .colab-df-convert {\n",
              "      background-color: #3B4455;\n",
              "      fill: #D2E3FC;\n",
              "    }\n",
              "\n",
              "    [theme=dark] .colab-df-convert:hover {\n",
              "      background-color: #434B5C;\n",
              "      box-shadow: 0px 1px 3px 1px rgba(0, 0, 0, 0.15);\n",
              "      filter: drop-shadow(0px 1px 2px rgba(0, 0, 0, 0.3));\n",
              "      fill: #FFFFFF;\n",
              "    }\n",
              "  </style>\n",
              "\n",
              "      <script>\n",
              "        const buttonEl =\n",
              "          document.querySelector('#df-486af841-9b4f-4d39-9f54-c2768beecc44 button.colab-df-convert');\n",
              "        buttonEl.style.display =\n",
              "          google.colab.kernel.accessAllowed ? 'block' : 'none';\n",
              "\n",
              "        async function convertToInteractive(key) {\n",
              "          const element = document.querySelector('#df-486af841-9b4f-4d39-9f54-c2768beecc44');\n",
              "          const dataTable =\n",
              "            await google.colab.kernel.invokeFunction('convertToInteractive',\n",
              "                                                     [key], {});\n",
              "          if (!dataTable) return;\n",
              "\n",
              "          const docLinkHtml = 'Like what you see? Visit the ' +\n",
              "            '<a target=\"_blank\" href=https://colab.research.google.com/notebooks/data_table.ipynb>data table notebook</a>'\n",
              "            + ' to learn more about interactive tables.';\n",
              "          element.innerHTML = '';\n",
              "          dataTable['output_type'] = 'display_data';\n",
              "          await google.colab.output.renderOutput(dataTable, element);\n",
              "          const docLink = document.createElement('div');\n",
              "          docLink.innerHTML = docLinkHtml;\n",
              "          element.appendChild(docLink);\n",
              "        }\n",
              "      </script>\n",
              "    </div>\n",
              "  </div>\n",
              "  "
            ],
            "text/plain": [
              "       gender  age marital_status credit_sum  credit_month  tariff_id  \\\n",
              "id                                                                      \n",
              "26031       M   24            UNM   24000,00            10       1.60   \n",
              "148877      M   23            UNM   16339,00            18       1.10   \n",
              "142019      M   54            UNM   15652,00            10       1.32   \n",
              "146816      F   52            UNM   16560,00            10       1.10   \n",
              "27699       F   63            WID    9078,00            18       1.10   \n",
              "\n",
              "       education  credit_count  overdue_credit_count job_pos credit_score  \\\n",
              "id                                                                          \n",
              "26031        SCH           2.0                   0.0     SPC     0,728851   \n",
              "148877       SCH           2.0                   0.0     SPC     0,347385   \n",
              "142019       GRD           2.0                   0.0     SPC     0,349705   \n",
              "146816       SCH           1.0                   0.0     SPC     0,359232   \n",
              "27699        SCH           4.0                   0.0     SPC     0,529368   \n",
              "\n",
              "                   region   income  opened  \n",
              "id                                          \n",
              "26031   ОБЛ ЛЕНИНГРАДСКАЯ  35000.0    True  \n",
              "148877           МОСКВА Г  38000.0    True  \n",
              "142019     ОБЛ МОСКОВСКАЯ  38000.0    True  \n",
              "146816      РЕСП МОРДОВИЯ  28000.0   False  \n",
              "27699     ЧЕЛЯБИНСКАЯ ОБЛ  30000.0   False  "
            ]
          },
          "execution_count": 6,
          "metadata": {},
          "output_type": "execute_result"
        }
      ],
      "source": [
        "df.head()"
      ]
    },
    {
      "cell_type": "markdown",
      "metadata": {
        "id": "EXXorHvCLLvv"
      },
      "source": [
        "Удалим колонки с которыми мы не умеем работать (ну или вы умеете :D)"
      ]
    },
    {
      "cell_type": "code",
      "execution_count": null,
      "metadata": {
        "id": "c2vHIGMMLLvw"
      },
      "outputs": [],
      "source": [
        "from pandas.core.arrays import categorical\n",
        "df = pd.read_csv('credit_train.csv')\n",
        "\n",
        "df = df.drop_duplicates()\n",
        "df = df.fillna('-1')\n",
        "\n",
        "# df = df.dropna()\n",
        "df['region'] = df['region'].apply(lambda x: str(x))\n",
        "y_train = df['opened']\n",
        "X_train = df.drop(columns=['opened', 'id'])\n",
        "X_train['credit_sum'] = X_train['credit_sum'].apply(lambda x: int(float(x.replace(',', '.'))))\n",
        "X_train['credit_score'] = X_train['credit_score'].apply(lambda x: float(x.replace(',', '.')))\n",
        "X_train['credit_score'] = X_train['credit_score'].apply(lambda x: float(\"{:.2f}\".format(x)))\n",
        "X_train['credit_count'] = X_train['credit_count'].apply(lambda x: int(x))\n",
        "X_train['overdue_credit_count'] = X_train['overdue_credit_count'].apply(lambda x: int(x))\n",
        "X_train['income'] = X_train['income'].apply(lambda x: int(x))\n",
        "\n",
        "# X_train['gender'] = np.array(X_train['gender'])\n",
        "# X_train['gender'] = X_train['gender'].values.reshape(-1, 1)\n",
        "# onehotencoder1 = OrdinalEncoder()\n",
        "# X_train['gender'] = onehotencoder1.fit_transform(X_train['gender']).toarray()\n",
        "\n",
        "\n",
        "\n",
        "X_train['gender'] = X_train['gender'].apply(lambda x: int(x.replace('F','0').replace('M', '1')))\n",
        "X_train['marital_status'] = X_train['marital_status'].apply(lambda x: int(x.replace('MAR','1').replace('UNM', '2').replace('DIV', '3').replace('CIV', '4').replace('WID', '5')))\n",
        "X_train['job_pos'] = X_train['job_pos'].apply(lambda x: int(x.replace('SPC','1').replace('BIU', '2').replace('UMN', '3').replace('WOI', '4').replace('ATP', '5').replace('INP','6').replace('BIS', '7').replace('HSK', '8').replace('DIR', '9').replace('PNV', '10').replace('PNA','11').replace('PNI', '12').replace('WRP', '13').replace('PNS', '14').replace('WRK', '15').replace('ONB','16').replace('NOR', '17').replace('INV', '18')))\n",
        "X_train['education'] = X_train['education'].apply(lambda x: int(x.replace('SCH','1').replace('GRD', '2').replace('UGR', '3').replace('PGR', '4').replace('ACD', '5')))\n",
        "X_train['region'] = X_train['region'].apply(lambda x: str(x).replace('ОБЛАСТЬ','').replace('РЕСПУБЛИКА','').replace('ОБЛ','').replace('ОКРУГ','').replace('РЕСП','').replace('КРАЙ','').replace('Г','').replace('.','').replace('Р-Н','').replace(' ',''))\n",
        "\n",
        "\n",
        "\n",
        "\n",
        "# X = word_tokenize(X_train['region'][0])\n",
        "\n",
        "# morph = pymorphy2.MorphAnalyzer()\n",
        "\n",
        "# w_lem_rus = [morph.normal_forms(word)[0] for word in X]\n",
        "\n",
        "# n = len(w_lem_rus)\n",
        "# sort(w_lem_rus, n)\n",
        "\n",
        "# X_train['gender']"
      ]
    },
    {
      "cell_type": "code",
      "execution_count": null,
      "metadata": {
        "colab": {
          "base_uri": "https://localhost:8080/"
        },
        "id": "iF_M3jKbLLvz",
        "outputId": "6886c377-c782-470e-f104-e6e797cff18f"
      },
      "outputs": [
        {
          "data": {
            "text/plain": [
              "114399"
            ]
          },
          "execution_count": 7,
          "metadata": {},
          "output_type": "execute_result"
        }
      ],
      "source": [
        "X_train['region'].size"
      ]
    },
    {
      "cell_type": "code",
      "execution_count": null,
      "metadata": {
        "colab": {
          "background_save": true,
          "base_uri": "https://localhost:8080/"
        },
        "id": "giTf5JPh1y6w",
        "outputId": "e8c26dee-a754-4c72-f37b-0ecacdde3801"
      },
      "outputs": [
        {
          "name": "stderr",
          "output_type": "stream",
          "text": [
            "  0%|          | 0/114399 [00:00<?, ?it/s]/usr/local/lib/python3.7/dist-packages/ipykernel_launcher.py:8: SettingWithCopyWarning: \n",
            "A value is trying to be set on a copy of a slice from a DataFrame\n",
            "\n",
            "See the caveats in the documentation: https://pandas.pydata.org/pandas-docs/stable/user_guide/indexing.html#returning-a-view-versus-a-copy\n",
            "  \n",
            "100%|██████████| 114399/114399 [03:52<00:00, 491.67it/s]\n"
          ]
        }
      ],
      "source": [
        "morph = pymorphy2.MorphAnalyzer()\n",
        "\n",
        "for i in tqdm(range(X_train['region'].size)):\n",
        "  w_lem = [morph.normal_forms(word)[0] for word in word_tokenize(X_train['region'][i])]\n",
        "  n = len(w_lem)\n",
        "  sort(w_lem, n)\n",
        "\n",
        "  X_train['region'][i] = w_lem[0][0:4]"
      ]
    },
    {
      "cell_type": "code",
      "execution_count": null,
      "metadata": {
        "id": "vam7qZ2Z3WRF"
      },
      "outputs": [],
      "source": [
        "print(X_train['region'].value_counts()[0:60])\n"
      ]
    },
    {
      "cell_type": "code",
      "execution_count": null,
      "metadata": {
        "colab": {
          "background_save": true
        },
        "id": "z8XAlwwZLLv0",
        "outputId": "06793ada-7648-47aa-dd2b-2b7ca9f8d763"
      },
      "outputs": [
        {
          "name": "stderr",
          "output_type": "stream",
          "text": [
            "  0%|          | 0/114399 [00:00<?, ?it/s]/usr/local/lib/python3.7/dist-packages/ipykernel_launcher.py:13: SettingWithCopyWarning: \n",
            "A value is trying to be set on a copy of a slice from a DataFrame\n",
            "\n",
            "See the caveats in the documentation: https://pandas.pydata.org/pandas-docs/stable/user_guide/indexing.html#returning-a-view-versus-a-copy\n",
            "  del sys.path[0]\n",
            "100%|██████████| 114399/114399 [01:40<00:00, 1133.35it/s]\n"
          ]
        }
      ],
      "source": [
        "diction = {}\n",
        "i = 1\n",
        "for reg in X_train.region.unique():\n",
        "    diction[reg] = i\n",
        "    i += 1\n",
        "\n",
        "diction\n",
        "# X_train['region'] = 0\n",
        "\n",
        "# # X_train['region'][148877]\n",
        "\n",
        "for id in tqdm(X_train.index):\n",
        "    X_train['region'][id] = diction[X_train['region'][id]]\n"
      ]
    },
    {
      "cell_type": "code",
      "execution_count": null,
      "metadata": {
        "colab": {
          "base_uri": "https://localhost:8080/"
        },
        "id": "jQld5SuFLLv2",
        "outputId": "dab8cdab-4a59-422d-edf2-89f17ebe1d9a"
      },
      "outputs": [
        {
          "data": {
            "text/plain": [
              "Int64Index([     0,      1,      2,      3,      4,      5,      6,      7,\n",
              "                 8,      9,\n",
              "            ...\n",
              "            114389, 114390, 114391, 114392, 114393, 114394, 114395, 114396,\n",
              "            114397, 114398],\n",
              "           dtype='int64', length=114399)"
            ]
          },
          "execution_count": 16,
          "metadata": {},
          "output_type": "execute_result"
        }
      ],
      "source": [
        "X_train.index"
      ]
    },
    {
      "cell_type": "code",
      "execution_count": null,
      "metadata": {
        "id": "52Zk-XqELLv4"
      },
      "outputs": [],
      "source": []
    },
    {
      "cell_type": "code",
      "execution_count": null,
      "metadata": {
        "id": "NiXZ7OXZLLv6"
      },
      "outputs": [],
      "source": [
        "X_resampled, y_resampled = SMOTE().fit_resample(X_train, y_train)\n",
        "\n",
        "ros = RandomOverSampler()\n",
        "X_ros, y_ros = ros.fit_resample(X_train, y_train)"
      ]
    },
    {
      "cell_type": "code",
      "execution_count": null,
      "metadata": {
        "id": "gDALKJbLLLv6"
      },
      "outputs": [],
      "source": [
        "X_resampled"
      ]
    },
    {
      "cell_type": "code",
      "execution_count": null,
      "metadata": {
        "id": "vorcKsP8LLv7"
      },
      "outputs": [],
      "source": [
        "\n",
        "X_train.loc[((X_train.age >= 18) & (X_train.age <= 20)),  'age'] = 1\n",
        "X_train.loc[((X_train.age >= 21) & (X_train.age <= 23)),  'age'] = 2\n",
        "X_train.loc[((X_train.age >= 24) & (X_train.age <= 26)),  'age'] = 3\n",
        "X_train.loc[((X_train.age >= 27) & (X_train.age <= 30)),  'age'] = 4\n",
        "X_train.loc[((X_train.age >= 31) & (X_train.age <= 34)),  'age'] = 5\n",
        "X_train.loc[((X_train.age >= 35) & (X_train.age <= 37)),  'age'] = 6\n",
        "X_train.loc[((X_train.age >= 38) & (X_train.age <= 42)),  'age'] = 7\n",
        "X_train.loc[((X_train.age >= 43) & (X_train.age <= 44)),  'age'] = 8\n",
        "X_train.loc[((X_train.age >= 45) & (X_train.age <= 46)),  'age'] = 9\n",
        "X_train.loc[((X_train.age >= 47) & (X_train.age <= 50)),  'age'] = 10\n",
        "X_train.loc[((X_train.age >= 51) & (X_train.age <= 52)),  'age'] = 11\n",
        "X_train.loc[((X_train.age >= 53) & (X_train.age <= 54)),  'age'] = 12\n",
        "X_train.loc[((X_train.age >= 55) & (X_train.age <= 56)),  'age'] = 13\n",
        "X_train.loc[((X_train.age >= 57) & (X_train.age <= 59)),  'age'] = 14\n",
        "X_train.loc[((X_train.age >= 60) & (X_train.age <= 63)),  'age'] = 15\n",
        "X_train.loc[((X_train.age >= 64) & (X_train.age <= 66)),  'age'] = 16\n",
        "X_train.loc[((X_train.age >= 67) & (X_train.age <= 70)),  'age'] = 17\n",
        "X_train.loc[((X_train.age >= 71) & (X_train.age <= 71)),  'age'] = 18\n",
        "\n"
      ]
    },
    {
      "cell_type": "code",
      "execution_count": null,
      "metadata": {
        "colab": {
          "base_uri": "https://localhost:8080/"
        },
        "id": "VEat8EKO7rj2",
        "outputId": "bbb3c802-dc0b-46f9-8038-1933d324afb4"
      },
      "outputs": [
        {
          "data": {
            "text/plain": [
              "array([[ 1.04273984, -0.99907137,  0.37696356, ...,  2.0969627 ,\n",
              "        -1.19643963, -0.20434392],\n",
              "       [ 1.04273984, -1.29760282,  0.37696356, ..., -0.95959044,\n",
              "        -1.14555996, -0.08479663],\n",
              "       [ 1.04273984,  1.68771168,  0.37696356, ..., -0.95959044,\n",
              "        -1.14555996, -0.08479663],\n",
              "       ...,\n",
              "       [-0.95901198,  0.79211733, -0.73006389, ..., -1.12046166,\n",
              "         2.16161847, -0.38764976],\n",
              "       [-0.95901198,  1.09064878, -0.73006389, ...,  0.00563687,\n",
              "         2.51777614, -0.96147675],\n",
              "       [ 1.04273984,  2.28477458, -0.73006389, ..., -0.87915483,\n",
              "         2.31425747, -0.4035894 ]])"
            ]
          },
          "execution_count": 38,
          "metadata": {},
          "output_type": "execute_result"
        }
      ],
      "source": [
        "scaler = StandardScaler().fit(X_train)\n",
        "# scaler\n",
        "X_scaled = scaler.transform(X_train)\n",
        "X_scaled"
      ]
    },
    {
      "cell_type": "code",
      "execution_count": null,
      "metadata": {
        "id": "BaLVax_D7oo_"
      },
      "outputs": [],
      "source": [
        "rus = RandomUnderSampler()\n",
        "\n",
        "X_res, y_res = rus.fit_resample(X_scaled, y_train)"
      ]
    },
    {
      "cell_type": "code",
      "execution_count": null,
      "metadata": {
        "id": "OmewdRJkgZu2"
      },
      "outputs": [],
      "source": [
        "sampler = BorderlineSMOTE()\n",
        "\n",
        "X_res, y_res = sampler.fit_resample(X_scaled, y_train)"
      ]
    },
    {
      "cell_type": "code",
      "execution_count": null,
      "metadata": {
        "colab": {
          "base_uri": "https://localhost:8080/"
        },
        "id": "ulSvDqtKoup9",
        "outputId": "1fcf6759-7eb0-4204-a156-1470b860a414"
      },
      "outputs": [
        {
          "data": {
            "text/plain": [
              "array([[-0.12554381, -0.27819561,  1.17137564, ...,  0.03516984,\n",
              "         2.0889326 , -0.20421823],\n",
              "       [-0.5985378 ,  1.98720955, -0.95148058, ...,  0.03516984,\n",
              "        -0.98080822, -0.08460703],\n",
              "       [-0.64095353, -0.27819561, -0.01742384, ...,  0.03516984,\n",
              "        -0.96213867, -0.08460703],\n",
              "       ...,\n",
              "       [ 2.25686816,  0.28815568, -0.95148058, ...,  0.03516984,\n",
              "        -0.64760343,  2.38735765],\n",
              "       [-1.09413895, -0.27819561,  1.17137564, ...,  0.03516984,\n",
              "         1.01416413, -0.82264378],\n",
              "       [ 0.6184845 ,  0.28815568,  1.31853099, ...,  0.03516984,\n",
              "         2.34804364, -0.46473238]])"
            ]
          },
          "execution_count": 6,
          "metadata": {},
          "output_type": "execute_result"
        }
      ],
      "source": [
        "X_res"
      ]
    },
    {
      "cell_type": "code",
      "execution_count": null,
      "metadata": {
        "id": "9IB1VaWiLLv9"
      },
      "outputs": [],
      "source": [
        "# pt = PowerTransformer(method='box-cox', standardize=False)\n",
        "# X_lognormal = pt.fit_transform(X_train)\n",
        "\n",
        "X_normilased = normalize(X_train, norm='l2')\n"
      ]
    },
    {
      "cell_type": "code",
      "execution_count": null,
      "metadata": {
        "colab": {
          "base_uri": "https://localhost:8080/"
        },
        "id": "s0LBDh6c7D_Q",
        "outputId": "a1357a87-4472-4dd7-98b2-5eb472a83229"
      },
      "outputs": [
        {
          "data": {
            "text/plain": [
              "array([[0.10779463, 0.21212121, 0.625     , ..., 0.25      , 0.64597786,\n",
              "        0.03174603],\n",
              "       [0.06895835, 0.45454545, 0.10416667, ..., 0.25      , 0.307886  ,\n",
              "        0.03492063],\n",
              "       [0.06547571, 0.21212121, 0.33333333, ..., 0.25      , 0.3099422 ,\n",
              "        0.03492063],\n",
              "       ...,\n",
              "       [0.06935883, 0.21212121, 0.10416667, ..., 0.25      , 0.29015564,\n",
              "        0.02687831],\n",
              "       [0.04781917, 0.21212121, 0.41666667, ..., 0.25      , 0.4142504 ,\n",
              "        0.01164021],\n",
              "       [0.0296202 , 0.21212121, 0.10416667, ..., 0.25      , 0.31489128,\n",
              "        0.02645503]])"
            ]
          },
          "execution_count": 5,
          "metadata": {},
          "output_type": "execute_result"
        }
      ],
      "source": [
        "min_max_scaler = MinMaxScaler()\n",
        "X_train_minmax = min_max_scaler.fit_transform(X_train)\n",
        "X_train_minmax"
      ]
    },
    {
      "cell_type": "code",
      "execution_count": null,
      "metadata": {
        "id": "D02Cmcw_LLv9"
      },
      "outputs": [],
      "source": [
        "X_lognormal"
      ]
    },
    {
      "cell_type": "code",
      "execution_count": null,
      "metadata": {
        "colab": {
          "base_uri": "https://localhost:8080/"
        },
        "id": "lzSaGBRPLLv9",
        "outputId": "0cd98a77-f63a-483a-ee89-7b5c2d6e1984"
      },
      "outputs": [
        {
          "data": {
            "text/plain": [
              "array([[2.35636807e-05, 7.06910420e-05, 4.71273613e-05, ...,\n",
              "        1.71744122e-05, 2.35636807e-05, 8.24728823e-01],\n",
              "       [2.41757334e-05, 4.83514668e-05, 4.83514668e-05, ...,\n",
              "        8.39828714e-06, 4.83514668e-05, 9.18677868e-01],\n",
              "       [2.43325181e-05, 2.91990218e-04, 4.86650363e-05, ...,\n",
              "        8.50920326e-06, 7.29975544e-05, 9.24635689e-01],\n",
              "       ...,\n",
              "       [0.00000000e+00, 2.60490556e-04, 2.89433952e-05, ...,\n",
              "        9.47548871e-06, 2.08392445e-03, 8.79879213e-01],\n",
              "       [0.00000000e+00, 4.97462370e-04, 4.97462370e-05, ...,\n",
              "        2.32511424e-05, 4.02944520e-03, 7.95939792e-01],\n",
              "       [3.20485622e-05, 4.48679871e-04, 3.20485622e-05, ...,\n",
              "        1.13865016e-05, 2.40364217e-03, 9.61456866e-01]])"
            ]
          },
          "execution_count": 28,
          "metadata": {},
          "output_type": "execute_result"
        }
      ],
      "source": [
        "X_normilased"
      ]
    },
    {
      "cell_type": "markdown",
      "metadata": {
        "id": "gLLGvYFpLLv-"
      },
      "source": [
        "Обучим что-нибудь классное"
      ]
    },
    {
      "cell_type": "code",
      "execution_count": null,
      "metadata": {
        "id": "r7S9bd0inh2I"
      },
      "outputs": [],
      "source": [
        "y_n = []\n",
        "for i in range(len(y_train)):\n",
        "  if y_train[i] == True:\n",
        "    y_n.append(1)\n",
        "  else:\n",
        "    y_n.append(0)"
      ]
    },
    {
      "cell_type": "code",
      "execution_count": null,
      "metadata": {
        "colab": {
          "base_uri": "https://localhost:8080/"
        },
        "id": "bD8gWr6Qi_dk",
        "outputId": "419c3636-0839-4f92-83c7-6406d1d370c8"
      },
      "outputs": [
        {
          "name": "stderr",
          "output_type": "stream",
          "text": [
            "\u001b[32m[I 2022-05-14 17:45:40,578]\u001b[0m A new study created in memory with name: no-name-4b703e83-54e3-4ea8-b4dc-df714b896362\u001b[0m\n",
            "\u001b[32m[I 2022-05-14 17:46:43,711]\u001b[0m Trial 0 finished with value: 0.4410973641742873 and parameters: {'reg_alpha': 4.823314090241269, 'reg_lanbda': 4.04600770612389, 'num_leaves': 261, 'min_child_samples': 46, 'max_depth': 20, 'learning_rate': 0.02, 'colsample_bytree': 0.2614044318041986, 'n_estimators': 4107, 'cat_smooth': 21, 'cat_l2': 12, 'min_data_per_group': 171}. Best is trial 0 with value: 0.4410973641742873.\u001b[0m\n",
            "\u001b[32m[I 2022-05-14 17:47:20,980]\u001b[0m Trial 1 finished with value: 0.42753787022383 and parameters: {'reg_alpha': 2.706865220828238, 'reg_lanbda': 8.86835449634802, 'num_leaves': 306, 'min_child_samples': 45, 'max_depth': 51, 'learning_rate': 0.11, 'colsample_bytree': 0.24579413719815155, 'n_estimators': 4781, 'cat_smooth': 61, 'cat_l2': 9, 'min_data_per_group': 59}. Best is trial 0 with value: 0.4410973641742873.\u001b[0m\n",
            "\u001b[32m[I 2022-05-14 17:49:17,398]\u001b[0m Trial 2 finished with value: 0.41636840849439277 and parameters: {'reg_alpha': 1.0098411337208104, 'reg_lanbda': 3.745703369119245, 'num_leaves': 220, 'min_child_samples': 41, 'max_depth': 17, 'learning_rate': 0.05, 'colsample_bytree': 0.2880704712496942, 'n_estimators': 6878, 'cat_smooth': 65, 'cat_l2': 7, 'min_data_per_group': 116}. Best is trial 0 with value: 0.4410973641742873.\u001b[0m\n",
            "\u001b[32m[I 2022-05-14 17:50:14,867]\u001b[0m Trial 3 finished with value: 0.4433684210526316 and parameters: {'reg_alpha': 5.089595591540722, 'reg_lanbda': 1.2904013011584, 'num_leaves': 54, 'min_child_samples': 30, 'max_depth': 20, 'learning_rate': 0.02, 'colsample_bytree': 0.3064226360227047, 'n_estimators': 7919, 'cat_smooth': 37, 'cat_l2': 15, 'min_data_per_group': 128}. Best is trial 3 with value: 0.4433684210526316.\u001b[0m\n",
            "\u001b[32m[I 2022-05-14 17:50:46,328]\u001b[0m Trial 4 finished with value: 0.44248539564524697 and parameters: {'reg_alpha': 7.441906598425585, 'reg_lanbda': 2.985491843719915, 'num_leaves': 312, 'min_child_samples': 40, 'max_depth': 47, 'learning_rate': 0.05, 'colsample_bytree': 0.36446422999739136, 'n_estimators': 4888, 'cat_smooth': 59, 'cat_l2': 11, 'min_data_per_group': 141}. Best is trial 3 with value: 0.4433684210526316.\u001b[0m\n",
            "\u001b[32m[I 2022-05-14 17:52:12,695]\u001b[0m Trial 5 finished with value: 0.4381948986265533 and parameters: {'reg_alpha': 3.9064599790759407, 'reg_lanbda': 5.215793112168589, 'num_leaves': 193, 'min_child_samples': 17, 'max_depth': 50, 'learning_rate': 0.02, 'colsample_bytree': 0.26834429489250144, 'n_estimators': 7838, 'cat_smooth': 10, 'cat_l2': 14, 'min_data_per_group': 62}. Best is trial 3 with value: 0.4433684210526316.\u001b[0m\n",
            "\u001b[32m[I 2022-05-14 17:54:44,631]\u001b[0m Trial 6 finished with value: 0.4413540319103062 and parameters: {'reg_alpha': 3.8882141773806507, 'reg_lanbda': 0.8367781360522811, 'num_leaves': 132, 'min_child_samples': 43, 'max_depth': 46, 'learning_rate': 0.005, 'colsample_bytree': 0.44843630369850374, 'n_estimators': 7350, 'cat_smooth': 26, 'cat_l2': 6, 'min_data_per_group': 198}. Best is trial 3 with value: 0.4433684210526316.\u001b[0m\n",
            "\u001b[32m[I 2022-05-14 17:55:06,126]\u001b[0m Trial 7 finished with value: 0.4413265306122449 and parameters: {'reg_alpha': 6.922692897089693, 'reg_lanbda': 8.991467224444678, 'num_leaves': 276, 'min_child_samples': 55, 'max_depth': 34, 'learning_rate': 0.05, 'colsample_bytree': 0.32897269842713195, 'n_estimators': 2108, 'cat_smooth': 90, 'cat_l2': 7, 'min_data_per_group': 136}. Best is trial 3 with value: 0.4433684210526316.\u001b[0m\n",
            "\u001b[32m[I 2022-05-14 17:55:43,592]\u001b[0m Trial 8 finished with value: 0.4413155406115372 and parameters: {'reg_alpha': 7.599412151784071, 'reg_lanbda': 5.358426332532258, 'num_leaves': 125, 'min_child_samples': 73, 'max_depth': 50, 'learning_rate': 0.05, 'colsample_bytree': 0.18053892493425763, 'n_estimators': 7164, 'cat_smooth': 10, 'cat_l2': 1, 'min_data_per_group': 117}. Best is trial 3 with value: 0.4433684210526316.\u001b[0m\n",
            "\u001b[32m[I 2022-05-14 17:56:43,610]\u001b[0m Trial 9 finished with value: 0.4422552923915322 and parameters: {'reg_alpha': 6.371515957141905, 'reg_lanbda': 8.796218516295728, 'num_leaves': 258, 'min_child_samples': 51, 'max_depth': 5, 'learning_rate': 0.01, 'colsample_bytree': 0.21017020379779658, 'n_estimators': 7206, 'cat_smooth': 89, 'cat_l2': 2, 'min_data_per_group': 117}. Best is trial 3 with value: 0.4433684210526316.\u001b[0m\n",
            "\u001b[32m[I 2022-05-14 17:57:28,936]\u001b[0m Trial 10 finished with value: 0.4427937686990612 and parameters: {'reg_alpha': 9.960539514071204, 'reg_lanbda': 0.18270261133909305, 'num_leaves': 23, 'min_child_samples': 106, 'max_depth': 64, 'learning_rate': 0.02, 'colsample_bytree': 0.48642069369141216, 'n_estimators': 6010, 'cat_smooth': 43, 'cat_l2': 20, 'min_data_per_group': 91}. Best is trial 3 with value: 0.4433684210526316.\u001b[0m\n",
            "\u001b[32m[I 2022-05-14 17:58:06,757]\u001b[0m Trial 11 finished with value: 0.4357165420659155 and parameters: {'reg_alpha': 9.431846481186287, 'reg_lanbda': 0.423026186398898, 'num_leaves': 21, 'min_child_samples': 100, 'max_depth': 31, 'learning_rate': 0.02, 'colsample_bytree': 0.11280391548684343, 'n_estimators': 5895, 'cat_smooth': 39, 'cat_l2': 20, 'min_data_per_group': 84}. Best is trial 3 with value: 0.4433684210526316.\u001b[0m\n",
            "\u001b[32m[I 2022-05-14 17:58:50,185]\u001b[0m Trial 12 finished with value: 0.4425602316203081 and parameters: {'reg_alpha': 9.921953639215701, 'reg_lanbda': 1.620687088003344, 'num_leaves': 39, 'min_child_samples': 104, 'max_depth': 64, 'learning_rate': 0.02, 'colsample_bytree': 0.4978419610379121, 'n_estimators': 6153, 'cat_smooth': 44, 'cat_l2': 19, 'min_data_per_group': 93}. Best is trial 3 with value: 0.4433684210526316.\u001b[0m\n",
            "\u001b[32m[I 2022-05-14 17:59:34,014]\u001b[0m Trial 13 finished with value: 0.43959435626102294 and parameters: {'reg_alpha': 0.5052133728807471, 'reg_lanbda': 2.253469827977087, 'num_leaves': 70, 'min_child_samples': 6, 'max_depth': 22, 'learning_rate': 0.02, 'colsample_bytree': 0.3860321918857537, 'n_estimators': 3446, 'cat_smooth': 35, 'cat_l2': 16, 'min_data_per_group': 91}. Best is trial 3 with value: 0.4433684210526316.\u001b[0m\n",
            "\u001b[32m[I 2022-05-14 18:00:47,984]\u001b[0m Trial 14 finished with value: 0.4427959460871383 and parameters: {'reg_alpha': 8.640020129215639, 'reg_lanbda': 0.1494758172385089, 'num_leaves': 84, 'min_child_samples': 79, 'max_depth': 62, 'learning_rate': 0.01, 'colsample_bytree': 0.4270968719067105, 'n_estimators': 6090, 'cat_smooth': 74, 'cat_l2': 17, 'min_data_per_group': 160}. Best is trial 3 with value: 0.4433684210526316.\u001b[0m\n",
            "\u001b[32m[I 2022-05-14 18:02:05,621]\u001b[0m Trial 15 finished with value: 0.4435348446683459 and parameters: {'reg_alpha': 8.59111527995699, 'reg_lanbda': 7.00735247524714, 'num_leaves': 96, 'min_child_samples': 73, 'max_depth': 27, 'learning_rate': 0.01, 'colsample_bytree': 0.4108516309646194, 'n_estimators': 6308, 'cat_smooth': 79, 'cat_l2': 16, 'min_data_per_group': 158}. Best is trial 15 with value: 0.4435348446683459.\u001b[0m\n",
            "\u001b[32m[I 2022-05-14 18:03:59,112]\u001b[0m Trial 16 finished with value: 0.4418604651162791 and parameters: {'reg_alpha': 5.842647812571647, 'reg_lanbda': 6.931972757257276, 'num_leaves': 127, 'min_child_samples': 28, 'max_depth': 9, 'learning_rate': 0.01, 'colsample_bytree': 0.3574551901981785, 'n_estimators': 7764, 'cat_smooth': 75, 'cat_l2': 14, 'min_data_per_group': 161}. Best is trial 15 with value: 0.4435348446683459.\u001b[0m\n",
            "\u001b[32m[I 2022-05-14 18:06:17,036]\u001b[0m Trial 17 finished with value: 0.4422281167108753 and parameters: {'reg_alpha': 2.393746975408919, 'reg_lanbda': 7.618886015169868, 'num_leaves': 91, 'min_child_samples': 72, 'max_depth': 25, 'learning_rate': 0.005, 'colsample_bytree': 0.39696921528976153, 'n_estimators': 6601, 'cat_smooth': 51, 'cat_l2': 16, 'min_data_per_group': 189}. Best is trial 15 with value: 0.4435348446683459.\u001b[0m\n",
            "\u001b[32m[I 2022-05-14 18:06:44,076]\u001b[0m Trial 18 finished with value: 0.44080684338367304 and parameters: {'reg_alpha': 5.325594716022183, 'reg_lanbda': 6.244000610430343, 'num_leaves': 58, 'min_child_samples': 90, 'max_depth': 14, 'learning_rate': 0.11, 'colsample_bytree': 0.3204174097336768, 'n_estimators': 5414, 'cat_smooth': 78, 'cat_l2': 13, 'min_data_per_group': 140}. Best is trial 15 with value: 0.4435348446683459.\u001b[0m\n",
            "\u001b[32m[I 2022-05-14 18:08:28,199]\u001b[0m Trial 19 finished with value: 0.4405846219021394 and parameters: {'reg_alpha': 7.943191597908519, 'reg_lanbda': 9.941768194552523, 'num_leaves': 146, 'min_child_samples': 67, 'max_depth': 40, 'learning_rate': 0.01, 'colsample_bytree': 0.43401700560460044, 'n_estimators': 6548, 'cat_smooth': 95, 'cat_l2': 17, 'min_data_per_group': 176}. Best is trial 15 with value: 0.4435348446683459.\u001b[0m\n",
            "\u001b[32m[I 2022-05-14 18:09:12,188]\u001b[0m Trial 20 finished with value: 0.4443738080101717 and parameters: {'reg_alpha': 8.818315226312333, 'reg_lanbda': 6.207648321925974, 'num_leaves': 174, 'min_child_samples': 23, 'max_depth': 28, 'learning_rate': 0.01, 'colsample_bytree': 0.15862602630054343, 'n_estimators': 4300, 'cat_smooth': 52, 'cat_l2': 10, 'min_data_per_group': 159}. Best is trial 20 with value: 0.4443738080101717.\u001b[0m\n",
            "\u001b[32m[I 2022-05-14 18:09:38,945]\u001b[0m Trial 21 finished with value: 0.43362831858407075 and parameters: {'reg_alpha': 8.68303656075686, 'reg_lanbda': 6.2671531307544575, 'num_leaves': 189, 'min_child_samples': 28, 'max_depth': 28, 'learning_rate': 0.01, 'colsample_bytree': 0.12866595210702436, 'n_estimators': 3881, 'cat_smooth': 51, 'cat_l2': 9, 'min_data_per_group': 155}. Best is trial 20 with value: 0.4443738080101717.\u001b[0m\n",
            "\u001b[32m[I 2022-05-14 18:10:24,950]\u001b[0m Trial 22 finished with value: 0.4443738753043294 and parameters: {'reg_alpha': 8.750495392594868, 'reg_lanbda': 7.580999080357259, 'num_leaves': 101, 'min_child_samples': 30, 'max_depth': 38, 'learning_rate': 0.01, 'colsample_bytree': 0.18236959864090344, 'n_estimators': 4352, 'cat_smooth': 34, 'cat_l2': 10, 'min_data_per_group': 150}. Best is trial 22 with value: 0.4443738753043294.\u001b[0m\n",
            "\u001b[32m[I 2022-05-14 18:10:56,248]\u001b[0m Trial 23 finished with value: 0.4413793103448276 and parameters: {'reg_alpha': 8.72141565670359, 'reg_lanbda': 7.750016200799808, 'num_leaves': 103, 'min_child_samples': 14, 'max_depth': 39, 'learning_rate': 0.01, 'colsample_bytree': 0.1565568679130621, 'n_estimators': 3010, 'cat_smooth': 28, 'cat_l2': 10, 'min_data_per_group': 149}. Best is trial 22 with value: 0.4443738753043294.\u001b[0m\n",
            "\u001b[32m[I 2022-05-14 18:11:40,966]\u001b[0m Trial 24 finished with value: 0.44373875304329424 and parameters: {'reg_alpha': 8.493674321390202, 'reg_lanbda': 7.604131732693764, 'num_leaves': 165, 'min_child_samples': 59, 'max_depth': 40, 'learning_rate': 0.01, 'colsample_bytree': 0.21506914849841816, 'n_estimators': 4275, 'cat_smooth': 68, 'cat_l2': 6, 'min_data_per_group': 178}. Best is trial 22 with value: 0.4443738753043294.\u001b[0m\n",
            "\u001b[32m[I 2022-05-14 18:12:26,464]\u001b[0m Trial 25 finished with value: 0.4437149211055808 and parameters: {'reg_alpha': 6.807521070073996, 'reg_lanbda': 7.996407753313936, 'num_leaves': 172, 'min_child_samples': 60, 'max_depth': 38, 'learning_rate': 0.01, 'colsample_bytree': 0.21778884511032728, 'n_estimators': 4275, 'cat_smooth': 67, 'cat_l2': 4, 'min_data_per_group': 176}. Best is trial 22 with value: 0.4443738753043294.\u001b[0m\n",
            "\u001b[32m[I 2022-05-14 18:12:57,184]\u001b[0m Trial 26 finished with value: 0.44281773817101633 and parameters: {'reg_alpha': 9.175330400252221, 'reg_lanbda': 5.941395579673396, 'num_leaves': 219, 'min_child_samples': 34, 'max_depth': 43, 'learning_rate': 0.01, 'colsample_bytree': 0.16050023156152365, 'n_estimators': 2970, 'cat_smooth': 49, 'cat_l2': 4, 'min_data_per_group': 185}. Best is trial 22 with value: 0.4443738753043294.\u001b[0m\n",
            "\u001b[32m[I 2022-05-14 18:13:44,113]\u001b[0m Trial 27 finished with value: 0.4443501326259947 and parameters: {'reg_alpha': 8.046621096349137, 'reg_lanbda': 4.489264472615126, 'num_leaves': 159, 'min_child_samples': 18, 'max_depth': 33, 'learning_rate': 0.01, 'colsample_bytree': 0.20851623562705188, 'n_estimators': 4460, 'cat_smooth': 55, 'cat_l2': 5, 'min_data_per_group': 170}. Best is trial 22 with value: 0.4443738753043294.\u001b[0m\n",
            "\u001b[32m[I 2022-05-14 18:14:06,669]\u001b[0m Trial 28 finished with value: 0.44302337771254846 and parameters: {'reg_alpha': 7.655743783254364, 'reg_lanbda': 4.054240369438598, 'num_leaves': 222, 'min_child_samples': 18, 'max_depth': 33, 'learning_rate': 0.11, 'colsample_bytree': 0.17772857648355592, 'n_estimators': 4650, 'cat_smooth': 57, 'cat_l2': 8, 'min_data_per_group': 168}. Best is trial 22 with value: 0.4443738753043294.\u001b[0m\n",
            "\u001b[32m[I 2022-05-14 18:15:31,420]\u001b[0m Trial 29 finished with value: 0.4444915703530909 and parameters: {'reg_alpha': 6.237648884078755, 'reg_lanbda': 4.491660491405165, 'num_leaves': 151, 'min_child_samples': 22, 'max_depth': 30, 'learning_rate': 0.005, 'colsample_bytree': 0.2449516696639521, 'n_estimators': 5441, 'cat_smooth': 20, 'cat_l2': 12, 'min_data_per_group': 146}. Best is trial 29 with value: 0.4444915703530909.\u001b[0m\n",
            "\u001b[32m[I 2022-05-14 18:17:07,782]\u001b[0m Trial 30 finished with value: 0.44380218368657676 and parameters: {'reg_alpha': 4.341994951442405, 'reg_lanbda': 3.4769863798269367, 'num_leaves': 193, 'min_child_samples': 5, 'max_depth': 58, 'learning_rate': 0.005, 'colsample_bytree': 0.24387144688122292, 'n_estimators': 5526, 'cat_smooth': 19, 'cat_l2': 12, 'min_data_per_group': 129}. Best is trial 29 with value: 0.4444915703530909.\u001b[0m\n",
            "\u001b[32m[I 2022-05-14 18:17:46,794]\u001b[0m Trial 31 finished with value: 0.43506768189509304 and parameters: {'reg_alpha': 6.64867290896222, 'reg_lanbda': 4.575481265162755, 'num_leaves': 149, 'min_child_samples': 22, 'max_depth': 30, 'learning_rate': 0.005, 'colsample_bytree': 0.14492796647857958, 'n_estimators': 5318, 'cat_smooth': 19, 'cat_l2': 11, 'min_data_per_group': 148}. Best is trial 29 with value: 0.4444915703530909.\u001b[0m\n",
            "\u001b[32m[I 2022-05-14 18:18:26,589]\u001b[0m Trial 32 finished with value: 0.4413265306122449 and parameters: {'reg_alpha': 6.116125204606709, 'reg_lanbda': 4.552834991898614, 'num_leaves': 117, 'min_child_samples': 11, 'max_depth': 24, 'learning_rate': 0.005, 'colsample_bytree': 0.1843665650586823, 'n_estimators': 3706, 'cat_smooth': 32, 'cat_l2': 10, 'min_data_per_group': 170}. Best is trial 29 with value: 0.4444915703530909.\u001b[0m\n",
            "\u001b[32m[I 2022-05-14 18:19:30,684]\u001b[0m Trial 33 finished with value: 0.4436240902858348 and parameters: {'reg_alpha': 7.163343106268693, 'reg_lanbda': 5.650855742507627, 'num_leaves': 151, 'min_child_samples': 25, 'max_depth': 33, 'learning_rate': 0.01, 'colsample_bytree': 0.2448131182937017, 'n_estimators': 4604, 'cat_smooth': 24, 'cat_l2': 12, 'min_data_per_group': 149}. Best is trial 29 with value: 0.4444915703530909.\u001b[0m\n",
            "\u001b[32m[I 2022-05-14 18:20:07,821]\u001b[0m Trial 34 finished with value: 0.4339822259839188 and parameters: {'reg_alpha': 7.953054828170536, 'reg_lanbda': 4.575233788042768, 'num_leaves': 209, 'min_child_samples': 35, 'max_depth': 15, 'learning_rate': 0.005, 'colsample_bytree': 0.1049123228426122, 'n_estimators': 5147, 'cat_smooth': 44, 'cat_l2': 9, 'min_data_per_group': 166}. Best is trial 29 with value: 0.4444915703530909.\u001b[0m\n",
            "\u001b[32m[I 2022-05-14 18:20:28,619]\u001b[0m Trial 35 finished with value: 0.43986036178990795 and parameters: {'reg_alpha': 8.021072781135826, 'reg_lanbda': 2.685009693321899, 'num_leaves': 246, 'min_child_samples': 21, 'max_depth': 20, 'learning_rate': 0.11, 'colsample_bytree': 0.2762754067393713, 'n_estimators': 4456, 'cat_smooth': 15, 'cat_l2': 4, 'min_data_per_group': 106}. Best is trial 29 with value: 0.4444915703530909.\u001b[0m\n",
            "\u001b[32m[I 2022-05-14 18:21:21,073]\u001b[0m Trial 36 finished with value: 0.44319864607573517 and parameters: {'reg_alpha': 9.264236416834727, 'reg_lanbda': 6.585872085227441, 'num_leaves': 165, 'min_child_samples': 36, 'max_depth': 36, 'learning_rate': 0.01, 'colsample_bytree': 0.22594592941693065, 'n_estimators': 4919, 'cat_smooth': 30, 'cat_l2': 8, 'min_data_per_group': 133}. Best is trial 29 with value: 0.4444915703530909.\u001b[0m\n",
            "\u001b[32m[I 2022-05-14 18:22:02,575]\u001b[0m Trial 37 finished with value: 0.44354753053637813 and parameters: {'reg_alpha': 5.383993554321124, 'reg_lanbda': 3.381535584024885, 'num_leaves': 115, 'min_child_samples': 10, 'max_depth': 43, 'learning_rate': 0.01, 'colsample_bytree': 0.19828739515765592, 'n_estimators': 3812, 'cat_smooth': 60, 'cat_l2': 13, 'min_data_per_group': 144}. Best is trial 29 with value: 0.4444915703530909.\u001b[0m\n",
            "\u001b[32m[I 2022-05-14 18:23:49,960]\u001b[0m Trial 38 finished with value: 0.4431228373702423 and parameters: {'reg_alpha': 2.576729354068106, 'reg_lanbda': 4.81658286958481, 'num_leaves': 333, 'min_child_samples': 40, 'max_depth': 30, 'learning_rate': 0.005, 'colsample_bytree': 0.29547014251695836, 'n_estimators': 5600, 'cat_smooth': 39, 'cat_l2': 6, 'min_data_per_group': 195}. Best is trial 29 with value: 0.4444915703530909.\u001b[0m\n",
            "\u001b[32m[I 2022-05-14 18:24:12,747]\u001b[0m Trial 39 finished with value: 0.4355228586442459 and parameters: {'reg_alpha': 7.170404995341341, 'reg_lanbda': 4.151174496371549, 'num_leaves': 186, 'min_child_samples': 17, 'max_depth': 36, 'learning_rate': 0.05, 'colsample_bytree': 0.13233228056858407, 'n_estimators': 3346, 'cat_smooth': 23, 'cat_l2': 11, 'min_data_per_group': 153}. Best is trial 29 with value: 0.4444915703530909.\u001b[0m\n",
            "\u001b[32m[I 2022-05-14 18:25:12,585]\u001b[0m Trial 40 finished with value: 0.4430514237144072 and parameters: {'reg_alpha': 4.578403664226544, 'reg_lanbda': 5.284272951265947, 'num_leaves': 140, 'min_child_samples': 46, 'max_depth': 44, 'learning_rate': 0.01, 'colsample_bytree': 0.2548617565819417, 'n_estimators': 4055, 'cat_smooth': 64, 'cat_l2': 8, 'min_data_per_group': 121}. Best is trial 29 with value: 0.4444915703530909.\u001b[0m\n",
            "\u001b[32m[I 2022-05-14 18:26:52,784]\u001b[0m Trial 41 finished with value: 0.44320497693875366 and parameters: {'reg_alpha': 3.6990723101793117, 'reg_lanbda': 3.8843967580158747, 'num_leaves': 195, 'min_child_samples': 7, 'max_depth': 58, 'learning_rate': 0.005, 'colsample_bytree': 0.23897160414307916, 'n_estimators': 5744, 'cat_smooth': 17, 'cat_l2': 12, 'min_data_per_group': 127}. Best is trial 29 with value: 0.4444915703530909.\u001b[0m\n",
            "\u001b[32m[I 2022-05-14 18:27:52,405]\u001b[0m Trial 42 finished with value: 0.44266837169650464 and parameters: {'reg_alpha': 4.710398676770932, 'reg_lanbda': 3.0803932287311415, 'num_leaves': 244, 'min_child_samples': 13, 'max_depth': 55, 'learning_rate': 0.005, 'colsample_bytree': 0.19034638414637137, 'n_estimators': 4973, 'cat_smooth': 13, 'cat_l2': 12, 'min_data_per_group': 133}. Best is trial 29 with value: 0.4444915703530909.\u001b[0m\n",
            "\u001b[32m[I 2022-05-14 18:29:15,406]\u001b[0m Trial 43 finished with value: 0.44522367442354693 and parameters: {'reg_alpha': 5.789755352457066, 'reg_lanbda': 8.254144546090393, 'num_leaves': 160, 'min_child_samples': 5, 'max_depth': 53, 'learning_rate': 0.005, 'colsample_bytree': 0.27259143435653593, 'n_estimators': 5213, 'cat_smooth': 21, 'cat_l2': 14, 'min_data_per_group': 111}. Best is trial 43 with value: 0.44522367442354693.\u001b[0m\n",
            "\u001b[32m[I 2022-05-14 18:30:41,173]\u001b[0m Trial 44 finished with value: 0.4456960680127524 and parameters: {'reg_alpha': 5.741429176964243, 'reg_lanbda': 8.356164943438623, 'num_leaves': 164, 'min_child_samples': 23, 'max_depth': 48, 'learning_rate': 0.005, 'colsample_bytree': 0.27584240575625024, 'n_estimators': 5217, 'cat_smooth': 33, 'cat_l2': 14, 'min_data_per_group': 103}. Best is trial 44 with value: 0.4456960680127524.\u001b[0m\n",
            "\u001b[32m[I 2022-05-14 18:32:07,792]\u001b[0m Trial 45 finished with value: 0.4453906748988716 and parameters: {'reg_alpha': 6.066138716058097, 'reg_lanbda': 8.467313189081263, 'num_leaves': 178, 'min_child_samples': 24, 'max_depth': 51, 'learning_rate': 0.005, 'colsample_bytree': 0.2841530451096035, 'n_estimators': 5160, 'cat_smooth': 34, 'cat_l2': 14, 'min_data_per_group': 110}. Best is trial 44 with value: 0.4456960680127524.\u001b[0m\n",
            "\u001b[32m[I 2022-05-14 18:33:22,887]\u001b[0m Trial 46 finished with value: 0.4441865372441443 and parameters: {'reg_alpha': 5.740447497010227, 'reg_lanbda': 8.476506543927467, 'num_leaves': 77, 'min_child_samples': 30, 'max_depth': 51, 'learning_rate': 0.005, 'colsample_bytree': 0.2698409682650331, 'n_estimators': 5212, 'cat_smooth': 35, 'cat_l2': 14, 'min_data_per_group': 108}. Best is trial 44 with value: 0.4456960680127524.\u001b[0m\n",
            "\u001b[32m[I 2022-05-14 18:34:54,944]\u001b[0m Trial 47 finished with value: 0.4416931216931217 and parameters: {'reg_alpha': 3.363200950217892, 'reg_lanbda': 9.626487198282002, 'num_leaves': 107, 'min_child_samples': 33, 'max_depth': 48, 'learning_rate': 0.005, 'colsample_bytree': 0.3134503800937527, 'n_estimators': 4832, 'cat_smooth': 26, 'cat_l2': 15, 'min_data_per_group': 75}. Best is trial 44 with value: 0.4456960680127524.\u001b[0m\n",
            "\u001b[32m[I 2022-05-14 18:36:32,577]\u001b[0m Trial 48 finished with value: 0.44308600337268134 and parameters: {'reg_alpha': 6.260657842360385, 'reg_lanbda': 9.1517945591075, 'num_leaves': 139, 'min_child_samples': 49, 'max_depth': 53, 'learning_rate': 0.005, 'colsample_bytree': 0.3391102595103701, 'n_estimators': 5187, 'cat_smooth': 31, 'cat_l2': 13, 'min_data_per_group': 103}. Best is trial 44 with value: 0.4456960680127524.\u001b[0m\n",
            "\u001b[32m[I 2022-05-14 18:38:09,604]\u001b[0m Trial 49 finished with value: 0.4442313838286993 and parameters: {'reg_alpha': 5.079112617394832, 'reg_lanbda': 8.376838009245063, 'num_leaves': 210, 'min_child_samples': 40, 'max_depth': 47, 'learning_rate': 0.005, 'colsample_bytree': 0.2967466951139966, 'n_estimators': 5802, 'cat_smooth': 23, 'cat_l2': 15, 'min_data_per_group': 98}. Best is trial 44 with value: 0.4456960680127524.\u001b[0m\n"
          ]
        }
      ],
      "source": [
        "def objective(trial, data = X_scaled, target = y_train):\n",
        "  train_x, test_x, train_y, test_y = train_test_split(X_scaled, y_n, test_size=0.15, random_state = 42)\n",
        "  params = {\n",
        "      'reg_alpha': trial.suggest_float('reg_alpha', 0.001, 10.0),\n",
        "      'reg_lambda': trial.suggest_float('reg_lanbda', 0.001, 10.0),\n",
        "      'num_leaves': trial.suggest_int('num_leaves', 11, 333),\n",
        "      'min_child_samples': trial.suggest_int('min_child_samples', 5, 108),\n",
        "      'max_depth': trial.suggest_int('max_depth', 5, 64),\n",
        "      'learning_rate': trial.suggest_categorical('learning_rate', [0.01, 0.02, 0.05, 0.005, 0.11]),\n",
        "      'colsample_bytree': trial.suggest_float('colsample_bytree', 0.1, 0.5),\n",
        "      'n_estimators': trial.suggest_int('n_estimators', 2000, 8000),\n",
        "      'cat_smooth' : trial.suggest_int('cat_smooth', 10, 100),\n",
        "      'cat_l2': trial. suggest_int('cat_l2', 1, 20),\n",
        "      'min_data_per_group': trial.suggest_int(\"min_data_per_group\", 50, 200),\n",
        "      'cat_feature' : [7, 8, 9, 10, 11, 12, 13, 14, 15, 16, 17, 18, 19, 20, 21, 22, 23, 24, 25, 26, 27, 28, 29, 30, 31, 32, 33, 34, 35, 36, 37, 38, 39, 40, 41, 42, 43, 44, 45, 46, 47, 48, 49, 58, 51, 52, 53, 54, 55, 56, 57, 58, 59, 60, 61, 62, 63, 64, 65, 66, 67, 68],\n",
        "      'n_jobs': -1,\n",
        "      'random_state': 42,\n",
        "      'boosting_type': 'gbdt',\n",
        "      'metric': 'f1',\n",
        "      'class_weight': {0: 0.61, 1: 2.83},\n",
        "      }\n",
        "\n",
        "  model = lightgbm.LGBMClassifier(**params)\n",
        "  model.fit(train_x, train_y, eval_set=[(test_x, test_y)], eval_metric='f1', verbose=True)\n",
        "\n",
        "  preds = model.predict(test_x) \n",
        "\n",
        "  f_1 = f1_score(test_y, preds)\n",
        "\n",
        "  return f_1\n",
        "\n",
        "study = optuna.create_study(direction='maximize')\n",
        "study.optimize(objective, n_trials=50)\n"
      ]
    },
    {
      "cell_type": "code",
      "execution_count": null,
      "metadata": {
        "colab": {
          "base_uri": "https://localhost:8080/"
        },
        "id": "29tZCG0yLLv-",
        "outputId": "f1cd55f9-d8bb-4de4-ffd4-35cbcb52dac7"
      },
      "outputs": [
        {
          "name": "stdout",
          "output_type": "stream",
          "text": [
            "BalancedBaggingClassifier (NeighbourhoodCleaningRule) 0.4410074780886807\n"
          ]
        }
      ],
      "source": [
        "# clf = BalancedRandomForestClassifier(n_estimators=100, random_state=0)\n",
        "# clf.fit(X_lognormal, y_train)\n",
        "# print('BalancedRandomForestClassifier', cross_val_score(clf, X_lognormal, y_train, cv = 5, scoring='f1').mean())\n",
        "\n",
        "# clf = BalancedBaggingClassifier(base_estimator=DecisionTreeClassifier(),\n",
        "#                                 sampling_strategy='auto',\n",
        "#                                 replacement=False,\n",
        "#                                 random_state=0)\n",
        "# clf.fit(X_lognormal, y_train)\n",
        "# print('BalancedBaggingClassifier', cross_val_score(clf, X_lognormal, y_train, cv = 5, scoring='f1').mean())\n",
        "\n",
        "# clf = BalancedRandomForestClassifier(n_estimators=200, max_depth=50)\n",
        "\n",
        "# parameters = {\n",
        "#     'n_estimators': range(10, 50, 5),\n",
        "#     # 'base_estimator': AdaBoostClassifier()\n",
        "# }\n",
        "\n",
        "# grid = GridSearchCV(clf, parameters, cv=5, scoring='f1')\n",
        "\n",
        "# grid.fit(X_train, y_train)\n",
        "\n",
        "# clf.fit(X_train, y_train)\n",
        "# print(cross_val_score(clf, X_train, y_train, cv = 5, scoring='f1').mean())\n",
        "# clf.fit(X_ros, y_ros)\n",
        "# print('EasyEnsembleClassifier', cross_val_score(clf, X_train, y_train, cv = 5, scoring='f1').mean())\n",
        "\n",
        "# clf = EasyEnsembleClassifier()\n",
        "# clf.fit(X_normilased, y_train)\n",
        "# print('EasyEnsembleClassifier (X_normilased)', cross_val_score(clf, X_normilased, y_train, cv = 5, scoring='f1').mean())\n",
        "\n",
        "# clf = RUSBoostClassifier(n_estimators=200, algorithm='SAMME.R')\n",
        "# clf.fit(X_train, y_train)\n",
        "# print('RUSBoostClassifier', cross_val_score(clf, X_train, y_train, cv = 5, scoring='f1').mean())\n",
        "\n",
        "# # DecisionTreeClassifier\n",
        "\n",
        "\n",
        "# clf = DecisionTreeClassifier()\n",
        "# clf.fit(X_train, y_train)\n",
        "# print('RUSBoostClassifier', cross_val_score(clf, X_train, y_train, cv = 5, scoring='f1').mean())\n",
        "\n",
        "# parameters = {'n_estimators': range(5, 16, 1)}\n",
        "\n",
        "tl = NeighbourhoodCleaningRule(n_neighbors=6)\n",
        "X_res, y_res = tl.fit_resample(X_scaled, y_train)\n",
        "clf = BalancedBaggingClassifier(base_estimator=BalancedRandomForestClassifier(), n_estimators=17)\n",
        "clf.fit(X_res, y_res)\n",
        "print('BalancedBaggingClassifier (NeighbourhoodCleaningRule)', cross_val_score(clf, X_scaled, y_train, cv = 5, scoring='f1').mean())\n",
        "\n",
        "#BalancedBaggingClassifier(base_estimator=BalancedRandomForestClassifier()) - best 0.44526\n"
      ]
    },
    {
      "cell_type": "code",
      "execution_count": null,
      "metadata": {
        "id": "m9udS_0No_b6"
      },
      "outputs": [],
      "source": [
        "param = {\n",
        "    'reg_alpha': 5.741429176964243,\n",
        "    'reg_lanbda': 8.356164943438623,\n",
        "    'num_leaves': 164,\n",
        "    'min_child_samples': 23,\n",
        "    'max_depth': 48,\n",
        "    'learning_rate': 0.005,\n",
        "    'colsample_bytree': 0.27584240575625024,\n",
        "    'n_estimators': 5217,\n",
        "    'cat_smooth': 33,\n",
        "    'cat_l2': 14,\n",
        "    'min_data_per_group': 103\n",
        "}\n",
        "\n",
        "model = lightgbm.LGBMClassifier(boosting_type='gbdt', num_leaves=164, max_depth=48, learning_rate=0.005, n_estimators=5217,\n",
        "                                min_child_samples=23, colsample_bytree=0.27584240575625024, reg_alpha=5.741429176964243,\n",
        "                                reg_lambda=8.356164943438623, random_state=42, cat_smooth=33, cat_l2 = 14, min_data_per_group= 103,\n",
        "                                metric='f1', error_score='raise')\n",
        "\n",
        "model.fit(X_scaled, y_n, eval_metric='f1', verbose=True)\n",
        "\n",
        "print('BalancedBaggingClassifier (NeighbourhoodCleaningRule)', cross_val_score(model, X_scaled, y_n, cv = 5, scoring='f1').mean())\n",
        "\n"
      ]
    },
    {
      "cell_type": "code",
      "execution_count": null,
      "metadata": {
        "colab": {
          "base_uri": "https://localhost:8080/"
        },
        "id": "h0V4fDrX8agN",
        "outputId": "423f8efe-f55d-4a56-f0d8-2ea31e625b6f"
      },
      "outputs": [
        {
          "data": {
            "text/plain": [
              "array([[ 1.04273984, -0.99907137,  0.37696356, ...,  2.0969627 ,\n",
              "        -1.19643963, -0.20434392],\n",
              "       [ 1.04273984, -1.29760282,  0.37696356, ..., -0.95959044,\n",
              "        -1.14555996, -0.08479663],\n",
              "       [ 1.04273984,  1.68771168,  0.37696356, ..., -0.95959044,\n",
              "        -1.14555996, -0.08479663],\n",
              "       ...,\n",
              "       [-0.95901198,  0.79211733, -0.73006389, ..., -1.12046166,\n",
              "         2.16161847, -0.38764976],\n",
              "       [-0.95901198,  1.09064878, -0.73006389, ...,  0.00563687,\n",
              "         2.51777614, -0.96147675],\n",
              "       [ 1.04273984,  2.28477458, -0.73006389, ..., -0.87915483,\n",
              "         2.31425747, -0.4035894 ]])"
            ]
          },
          "execution_count": 54,
          "metadata": {},
          "output_type": "execute_result"
        }
      ],
      "source": [
        "X_scaled\n"
      ]
    },
    {
      "cell_type": "code",
      "execution_count": null,
      "metadata": {
        "colab": {
          "base_uri": "https://localhost:8080/"
        },
        "id": "Ka4KgWvDeRF6",
        "outputId": "0dff9e50-c18f-41dc-8bff-dd6cc686cf77"
      },
      "outputs": [
        {
          "data": {
            "text/plain": [
              "0.4424120885192556"
            ]
          },
          "execution_count": 9,
          "metadata": {},
          "output_type": "execute_result"
        }
      ],
      "source": [
        "grid.best_score_"
      ]
    },
    {
      "cell_type": "code",
      "execution_count": null,
      "metadata": {
        "colab": {
          "base_uri": "https://localhost:8080/"
        },
        "id": "iOclVGhWeUJo",
        "outputId": "425de5cc-e3d9-43bb-c896-def6d641c001"
      },
      "outputs": [
        {
          "data": {
            "text/plain": [
              "{'n_estimators': 15}"
            ]
          },
          "execution_count": 10,
          "metadata": {},
          "output_type": "execute_result"
        }
      ],
      "source": [
        "grid.best_params_"
      ]
    },
    {
      "cell_type": "code",
      "execution_count": null,
      "metadata": {
        "id": "HmkTNTR6TQko"
      },
      "outputs": [],
      "source": [
        "y_pred = clf.predict(X_scaled)"
      ]
    },
    {
      "cell_type": "code",
      "execution_count": null,
      "metadata": {
        "colab": {
          "base_uri": "https://localhost:8080/"
        },
        "id": "fOOxVilyTNxa",
        "outputId": "21f49816-bde8-4b53-ca5a-b5fd6da1fc64"
      },
      "outputs": [
        {
          "data": {
            "text/plain": [
              "0.6898195706571842"
            ]
          },
          "execution_count": 64,
          "metadata": {},
          "output_type": "execute_result"
        }
      ],
      "source": [
        "accuracy_score(y_train, y_pred)"
      ]
    },
    {
      "cell_type": "code",
      "execution_count": null,
      "metadata": {
        "colab": {
          "base_uri": "https://localhost:8080/"
        },
        "id": "tjSBe0G5NE_g",
        "outputId": "0ace6dc4-ff99-439d-8f56-abed0e2db7e6"
      },
      "outputs": [
        {
          "data": {
            "text/plain": [
              "0.43493946851996024"
            ]
          },
          "execution_count": 25,
          "metadata": {},
          "output_type": "execute_result"
        }
      ],
      "source": [
        "cross_val_score(clf, X_train, y_train, cv = 5, scoring='f1').mean()"
      ]
    },
    {
      "cell_type": "code",
      "execution_count": null,
      "metadata": {
        "id": "eV2UdMdxLLv_",
        "outputId": "f538e513-463b-4d6d-dd60-21743f33516f"
      },
      "outputs": [
        {
          "data": {
            "text/plain": [
              "0.43814920671855184"
            ]
          },
          "execution_count": 6,
          "metadata": {},
          "output_type": "execute_result"
        }
      ],
      "source": [
        "grid.best_score_"
      ]
    },
    {
      "cell_type": "code",
      "execution_count": null,
      "metadata": {
        "id": "JZGLc9OCLLv_",
        "outputId": "39d8614f-f97a-499c-9d9f-871648c866c0"
      },
      "outputs": [
        {
          "data": {
            "text/plain": [
              "{'n_estimators': 20}"
            ]
          },
          "execution_count": 7,
          "metadata": {},
          "output_type": "execute_result"
        }
      ],
      "source": [
        "grid.best_params_"
      ]
    },
    {
      "cell_type": "code",
      "execution_count": null,
      "metadata": {
        "id": "otlKyfNLLLwA"
      },
      "outputs": [],
      "source": [
        "clf = BalancedRandomForestClassifier()\n",
        "\n",
        "parameters = {\n",
        "    'n_estimators': range(10, 200, 10),\n",
        "    'max_depth': range(2, 50, 2),\n",
        "    'min_samples_split': range(2, 5, 1),\n",
        "    'min_samples_leaf': range(1, 5, 1),\n",
        "    'bootstrap' : [True, False],\n",
        "    'oob_score' : [True, False],   \n",
        "\n",
        "    # 'base_estimator': AdaBoostClassifier()\n",
        "}\n",
        "\n",
        "grid = GridSearchCV(clf, parameters, cv=5, scoring='f1')\n",
        "\n",
        "grid.fit(X_train, y_train)"
      ]
    },
    {
      "cell_type": "code",
      "execution_count": null,
      "metadata": {
        "id": "O5BxbxsYLLwA"
      },
      "outputs": [],
      "source": [
        "grid.best_score_"
      ]
    },
    {
      "cell_type": "code",
      "execution_count": null,
      "metadata": {
        "id": "sGo4n8NsLLwA"
      },
      "outputs": [],
      "source": [
        "grid.best_params_"
      ]
    },
    {
      "cell_type": "code",
      "execution_count": null,
      "metadata": {
        "id": "53P616Q-LLwB",
        "outputId": "842f46c8-dab1-470e-b04f-7bff6c6c54aa"
      },
      "outputs": [
        {
          "data": {
            "text/plain": [
              "0.437265956961142"
            ]
          },
          "execution_count": 69,
          "metadata": {},
          "output_type": "execute_result"
        }
      ],
      "source": [
        "clf = EasyEnsembleClassifier()\n",
        "clf.fit(X_train, y_train)\n",
        "cross_val_score(clf, X_train, y_train, cv = 5, scoring='f1').mean()"
      ]
    },
    {
      "cell_type": "markdown",
      "metadata": {
        "id": "_0I3UcbbLLwB"
      },
      "source": [
        "Считаем тестовую выборку и предскажем ответы для нее"
      ]
    },
    {
      "cell_type": "code",
      "execution_count": null,
      "metadata": {
        "id": "tYZNWd89LLwC"
      },
      "outputs": [],
      "source": []
    },
    {
      "cell_type": "code",
      "execution_count": null,
      "metadata": {
        "colab": {
          "base_uri": "https://localhost:8080/",
          "height": 238
        },
        "id": "U9BpKqs9LLwC",
        "outputId": "fb9abc3e-1c23-4fb2-e301-02ba53a385d5"
      },
      "outputs": [
        {
          "data": {
            "text/html": [
              "\n",
              "  <div id=\"df-746fccfa-fc5e-485b-8391-3000ff70a4a3\">\n",
              "    <div class=\"colab-df-container\">\n",
              "      <div>\n",
              "<style scoped>\n",
              "    .dataframe tbody tr th:only-of-type {\n",
              "        vertical-align: middle;\n",
              "    }\n",
              "\n",
              "    .dataframe tbody tr th {\n",
              "        vertical-align: top;\n",
              "    }\n",
              "\n",
              "    .dataframe thead th {\n",
              "        text-align: right;\n",
              "    }\n",
              "</style>\n",
              "<table border=\"1\" class=\"dataframe\">\n",
              "  <thead>\n",
              "    <tr style=\"text-align: right;\">\n",
              "      <th></th>\n",
              "      <th>gender</th>\n",
              "      <th>age</th>\n",
              "      <th>marital_status</th>\n",
              "      <th>credit_sum</th>\n",
              "      <th>credit_month</th>\n",
              "      <th>tariff_id</th>\n",
              "      <th>education</th>\n",
              "      <th>credit_count</th>\n",
              "      <th>overdue_credit_count</th>\n",
              "      <th>job_pos</th>\n",
              "      <th>credit_score</th>\n",
              "      <th>region</th>\n",
              "      <th>income</th>\n",
              "    </tr>\n",
              "    <tr>\n",
              "      <th>id</th>\n",
              "      <th></th>\n",
              "      <th></th>\n",
              "      <th></th>\n",
              "      <th></th>\n",
              "      <th></th>\n",
              "      <th></th>\n",
              "      <th></th>\n",
              "      <th></th>\n",
              "      <th></th>\n",
              "      <th></th>\n",
              "      <th></th>\n",
              "      <th></th>\n",
              "      <th></th>\n",
              "    </tr>\n",
              "  </thead>\n",
              "  <tbody>\n",
              "    <tr>\n",
              "      <th>39162</th>\n",
              "      <td>F</td>\n",
              "      <td>18</td>\n",
              "      <td>UNM</td>\n",
              "      <td>39469,00</td>\n",
              "      <td>6</td>\n",
              "      <td>1.44</td>\n",
              "      <td>GRD</td>\n",
              "      <td>NaN</td>\n",
              "      <td>NaN</td>\n",
              "      <td>SPC</td>\n",
              "      <td>0,424628</td>\n",
              "      <td>САНКТ-ПЕТЕРБУРГ Г</td>\n",
              "      <td>30000.0</td>\n",
              "    </tr>\n",
              "    <tr>\n",
              "      <th>10673</th>\n",
              "      <td>F</td>\n",
              "      <td>63</td>\n",
              "      <td>WID</td>\n",
              "      <td>16693,00</td>\n",
              "      <td>10</td>\n",
              "      <td>1.32</td>\n",
              "      <td>GRD</td>\n",
              "      <td>2.0</td>\n",
              "      <td>0.0</td>\n",
              "      <td>SPC</td>\n",
              "      <td>0,311945</td>\n",
              "      <td>ОБЛ ЛЕНИНГРАДСКАЯ</td>\n",
              "      <td>21250.0</td>\n",
              "    </tr>\n",
              "    <tr>\n",
              "      <th>121409</th>\n",
              "      <td>M</td>\n",
              "      <td>42</td>\n",
              "      <td>MAR</td>\n",
              "      <td>60260,00</td>\n",
              "      <td>10</td>\n",
              "      <td>1.10</td>\n",
              "      <td>GRD</td>\n",
              "      <td>5.0</td>\n",
              "      <td>0.0</td>\n",
              "      <td>SPC</td>\n",
              "      <td>0,421982</td>\n",
              "      <td>МОСКВА Г</td>\n",
              "      <td>150000.0</td>\n",
              "    </tr>\n",
              "    <tr>\n",
              "      <th>23504</th>\n",
              "      <td>M</td>\n",
              "      <td>41</td>\n",
              "      <td>MAR</td>\n",
              "      <td>32479,00</td>\n",
              "      <td>12</td>\n",
              "      <td>1.10</td>\n",
              "      <td>GRD</td>\n",
              "      <td>1.0</td>\n",
              "      <td>0.0</td>\n",
              "      <td>DIR</td>\n",
              "      <td>0,406572</td>\n",
              "      <td>ТАТАРСТАН РЕСП</td>\n",
              "      <td>150000.0</td>\n",
              "    </tr>\n",
              "    <tr>\n",
              "      <th>69269</th>\n",
              "      <td>F</td>\n",
              "      <td>24</td>\n",
              "      <td>UNM</td>\n",
              "      <td>8159,00</td>\n",
              "      <td>12</td>\n",
              "      <td>1.10</td>\n",
              "      <td>SCH</td>\n",
              "      <td>2.0</td>\n",
              "      <td>0.0</td>\n",
              "      <td>SPC</td>\n",
              "      <td>0,418243</td>\n",
              "      <td>ТВЕРСКАЯ ОБЛ</td>\n",
              "      <td>16000.0</td>\n",
              "    </tr>\n",
              "  </tbody>\n",
              "</table>\n",
              "</div>\n",
              "      <button class=\"colab-df-convert\" onclick=\"convertToInteractive('df-746fccfa-fc5e-485b-8391-3000ff70a4a3')\"\n",
              "              title=\"Convert this dataframe to an interactive table.\"\n",
              "              style=\"display:none;\">\n",
              "        \n",
              "  <svg xmlns=\"http://www.w3.org/2000/svg\" height=\"24px\"viewBox=\"0 0 24 24\"\n",
              "       width=\"24px\">\n",
              "    <path d=\"M0 0h24v24H0V0z\" fill=\"none\"/>\n",
              "    <path d=\"M18.56 5.44l.94 2.06.94-2.06 2.06-.94-2.06-.94-.94-2.06-.94 2.06-2.06.94zm-11 1L8.5 8.5l.94-2.06 2.06-.94-2.06-.94L8.5 2.5l-.94 2.06-2.06.94zm10 10l.94 2.06.94-2.06 2.06-.94-2.06-.94-.94-2.06-.94 2.06-2.06.94z\"/><path d=\"M17.41 7.96l-1.37-1.37c-.4-.4-.92-.59-1.43-.59-.52 0-1.04.2-1.43.59L10.3 9.45l-7.72 7.72c-.78.78-.78 2.05 0 2.83L4 21.41c.39.39.9.59 1.41.59.51 0 1.02-.2 1.41-.59l7.78-7.78 2.81-2.81c.8-.78.8-2.07 0-2.86zM5.41 20L4 18.59l7.72-7.72 1.47 1.35L5.41 20z\"/>\n",
              "  </svg>\n",
              "      </button>\n",
              "      \n",
              "  <style>\n",
              "    .colab-df-container {\n",
              "      display:flex;\n",
              "      flex-wrap:wrap;\n",
              "      gap: 12px;\n",
              "    }\n",
              "\n",
              "    .colab-df-convert {\n",
              "      background-color: #E8F0FE;\n",
              "      border: none;\n",
              "      border-radius: 50%;\n",
              "      cursor: pointer;\n",
              "      display: none;\n",
              "      fill: #1967D2;\n",
              "      height: 32px;\n",
              "      padding: 0 0 0 0;\n",
              "      width: 32px;\n",
              "    }\n",
              "\n",
              "    .colab-df-convert:hover {\n",
              "      background-color: #E2EBFA;\n",
              "      box-shadow: 0px 1px 2px rgba(60, 64, 67, 0.3), 0px 1px 3px 1px rgba(60, 64, 67, 0.15);\n",
              "      fill: #174EA6;\n",
              "    }\n",
              "\n",
              "    [theme=dark] .colab-df-convert {\n",
              "      background-color: #3B4455;\n",
              "      fill: #D2E3FC;\n",
              "    }\n",
              "\n",
              "    [theme=dark] .colab-df-convert:hover {\n",
              "      background-color: #434B5C;\n",
              "      box-shadow: 0px 1px 3px 1px rgba(0, 0, 0, 0.15);\n",
              "      filter: drop-shadow(0px 1px 2px rgba(0, 0, 0, 0.3));\n",
              "      fill: #FFFFFF;\n",
              "    }\n",
              "  </style>\n",
              "\n",
              "      <script>\n",
              "        const buttonEl =\n",
              "          document.querySelector('#df-746fccfa-fc5e-485b-8391-3000ff70a4a3 button.colab-df-convert');\n",
              "        buttonEl.style.display =\n",
              "          google.colab.kernel.accessAllowed ? 'block' : 'none';\n",
              "\n",
              "        async function convertToInteractive(key) {\n",
              "          const element = document.querySelector('#df-746fccfa-fc5e-485b-8391-3000ff70a4a3');\n",
              "          const dataTable =\n",
              "            await google.colab.kernel.invokeFunction('convertToInteractive',\n",
              "                                                     [key], {});\n",
              "          if (!dataTable) return;\n",
              "\n",
              "          const docLinkHtml = 'Like what you see? Visit the ' +\n",
              "            '<a target=\"_blank\" href=https://colab.research.google.com/notebooks/data_table.ipynb>data table notebook</a>'\n",
              "            + ' to learn more about interactive tables.';\n",
              "          element.innerHTML = '';\n",
              "          dataTable['output_type'] = 'display_data';\n",
              "          await google.colab.output.renderOutput(dataTable, element);\n",
              "          const docLink = document.createElement('div');\n",
              "          docLink.innerHTML = docLinkHtml;\n",
              "          element.appendChild(docLink);\n",
              "        }\n",
              "      </script>\n",
              "    </div>\n",
              "  </div>\n",
              "  "
            ],
            "text/plain": [
              "       gender  age marital_status credit_sum  credit_month  tariff_id  \\\n",
              "id                                                                      \n",
              "39162       F   18            UNM   39469,00             6       1.44   \n",
              "10673       F   63            WID   16693,00            10       1.32   \n",
              "121409      M   42            MAR   60260,00            10       1.10   \n",
              "23504       M   41            MAR   32479,00            12       1.10   \n",
              "69269       F   24            UNM    8159,00            12       1.10   \n",
              "\n",
              "       education  credit_count  overdue_credit_count job_pos credit_score  \\\n",
              "id                                                                          \n",
              "39162        GRD           NaN                   NaN     SPC     0,424628   \n",
              "10673        GRD           2.0                   0.0     SPC     0,311945   \n",
              "121409       GRD           5.0                   0.0     SPC     0,421982   \n",
              "23504        GRD           1.0                   0.0     DIR     0,406572   \n",
              "69269        SCH           2.0                   0.0     SPC     0,418243   \n",
              "\n",
              "                   region    income  \n",
              "id                                   \n",
              "39162   САНКТ-ПЕТЕРБУРГ Г   30000.0  \n",
              "10673   ОБЛ ЛЕНИНГРАДСКАЯ   21250.0  \n",
              "121409           МОСКВА Г  150000.0  \n",
              "23504      ТАТАРСТАН РЕСП  150000.0  \n",
              "69269        ТВЕРСКАЯ ОБЛ   16000.0  "
            ]
          },
          "execution_count": 19,
          "metadata": {},
          "output_type": "execute_result"
        }
      ],
      "source": [
        "df_test = pd.read_csv('credit_test.csv', index_col='id')\n",
        "df_test.head()"
      ]
    },
    {
      "cell_type": "markdown",
      "metadata": {
        "id": "9I-oQCmGLLwC"
      },
      "source": [
        "Удалим колонки с которыми мы не работаем, как и на тренировочной выборке"
      ]
    },
    {
      "cell_type": "code",
      "execution_count": null,
      "metadata": {
        "id": "X73wa2qFLLwD"
      },
      "outputs": [],
      "source": [
        "# X_test = df_test.drop(columns=['gender', 'marital_status', 'education', 'job_pos', 'region'])\n",
        "# X_test['credit_sum'] = X_test['credit_sum'].apply(lambda x: float(x.replace(',', '.')))\n",
        "# X_test['credit_score'] = X_test['credit_score'].apply(lambda x: float(x.replace(',', '.')))\n",
        "# X_test = X_test.fillna(-1)\n",
        "\n",
        "\n",
        "# X_test = df_test.drop(columns=['region'])\n",
        "X_test = df_test\n",
        "X_test['credit_sum'] = X_test['credit_sum'].apply(lambda x: int(float(x.replace(',', '.'))))\n",
        "X_test['credit_score'] = X_test['credit_score'].apply(lambda x: float(x.replace(',', '.')))\n",
        "X_test['credit_score'] = X_test['credit_score'].apply(lambda x: float(\"{:.2f}\".format(x)))\n",
        "X_test = X_test.fillna('-1')\n",
        "X_test['credit_count'] = X_test['credit_count'].apply(lambda x: int(x))\n",
        "X_test['overdue_credit_count'] = X_test['overdue_credit_count'].apply(lambda x: int(x))\n",
        "X_test['income'] = X_test['income'].apply(lambda x: int(x))\n",
        "X_test['gender'] = X_test['gender'].apply(lambda x: int(x.replace('F','0').replace('M', '1')))\n",
        "X_test['marital_status'] = X_test['marital_status'].apply(lambda x: int(x.replace('MAR','1').replace('UNM', '2').replace('DIV', '3').replace('CIV', '4').replace('WID', '5')))\n",
        "X_test['job_pos'] = X_test['job_pos'].apply(lambda x: int(x.replace('SPC','1').replace('BIU', '2').replace('UMN', '3').replace('WOI', '4').replace('ATP', '5').replace('INP','6').replace('BIS', '7').replace('HSK', '8').replace('DIR', '9').replace('PNV', '10').replace('PNA','11').replace('PNI', '12').replace('WRP', '13').replace('PNS', '14').replace('WRK', '15').replace('ONB','16').replace('NOR', '17').replace('INV', '18')))\n",
        "X_test['education'] = X_test['education'].apply(lambda x: int(x.replace('SCH','1').replace('GRD', '2').replace('UGR', '3').replace('PGR', '4').replace('ACD', '5')))\n",
        "X_test['region'] = X_test['region'].apply(lambda x: str(x).replace('ОБЛАСТЬ','').replace('РЕСПУБЛИКА','').replace('ОБЛ','').replace('ОКРУГ','').replace('РЕСП','').replace('КРАЙ','').replace('Г','').replace('.','').replace('Р-Н','').replace(' ',''))"
      ]
    },
    {
      "cell_type": "code",
      "execution_count": null,
      "metadata": {
        "id": "kh_ZQaC0LLwD",
        "outputId": "23ac1474-3c44-4019-b593-15ea151c83b1"
      },
      "outputs": [
        {
          "data": {
            "text/plain": [
              "id\n",
              "39162     САНКТ-ПЕТЕРБУРГ Г\n",
              "10673     ОБЛ ЛЕНИНГРАДСКАЯ\n",
              "121409             МОСКВА Г\n",
              "23504        ТАТАРСТАН РЕСП\n",
              "69269          ТВЕРСКАЯ ОБЛ\n",
              "                ...        \n",
              "14148             САМАРСКАЯ\n",
              "153732        САМАРСКАЯ ОБЛ\n",
              "37647        РОСТОВСКАЯ ОБЛ\n",
              "92808      ОБЛ СВЕРДЛОВСКАЯ\n",
              "140311      ОБЛ ВОЛОГОДСКАЯ\n",
              "Name: region, Length: 56347, dtype: object"
            ]
          },
          "execution_count": 72,
          "metadata": {},
          "output_type": "execute_result"
        }
      ],
      "source": [
        "df_test.region"
      ]
    },
    {
      "cell_type": "code",
      "execution_count": null,
      "metadata": {
        "id": "4IdE7dU6LLwE"
      },
      "outputs": [],
      "source": [
        "# diction = {}\n",
        "diction_test = {}\n",
        "i = 286\n",
        "for reg in X_test.region.unique():\n",
        "    diction_test[reg] = i\n",
        "    i += 1\n",
        "\n",
        "for key in diction:\n",
        "    diction_test[key] = diction[key]\n",
        "\n",
        "# diction_test['ДАЛЬНИЙВОСТОК']\n",
        "# X_test['region'] = 0\n",
        "\n",
        "# X_train['region'][148877]\n",
        "\n",
        "for id in tqdm(X_test.index):\n",
        "    X_test['region'][id] = diction_test[X_test['region'][id]]\n",
        "diction"
      ]
    },
    {
      "cell_type": "code",
      "execution_count": null,
      "metadata": {
        "id": "3bWg41byLLwE",
        "outputId": "df2e0593-1d3e-486a-8265-cfd43f4fcf34"
      },
      "outputs": [
        {
          "data": {
            "text/html": [
              "<div>\n",
              "<style scoped>\n",
              "    .dataframe tbody tr th:only-of-type {\n",
              "        vertical-align: middle;\n",
              "    }\n",
              "\n",
              "    .dataframe tbody tr th {\n",
              "        vertical-align: top;\n",
              "    }\n",
              "\n",
              "    .dataframe thead th {\n",
              "        text-align: right;\n",
              "    }\n",
              "</style>\n",
              "<table border=\"1\" class=\"dataframe\">\n",
              "  <thead>\n",
              "    <tr style=\"text-align: right;\">\n",
              "      <th></th>\n",
              "      <th>id</th>\n",
              "      <th>gender</th>\n",
              "      <th>age</th>\n",
              "      <th>marital_status</th>\n",
              "      <th>credit_sum</th>\n",
              "      <th>credit_month</th>\n",
              "      <th>tariff_id</th>\n",
              "      <th>education</th>\n",
              "      <th>credit_count</th>\n",
              "      <th>overdue_credit_count</th>\n",
              "      <th>job_pos</th>\n",
              "      <th>credit_score</th>\n",
              "      <th>income</th>\n",
              "    </tr>\n",
              "  </thead>\n",
              "  <tbody>\n",
              "    <tr>\n",
              "      <th>0</th>\n",
              "      <td>26031</td>\n",
              "      <td>1</td>\n",
              "      <td>24</td>\n",
              "      <td>2</td>\n",
              "      <td>24000</td>\n",
              "      <td>10</td>\n",
              "      <td>1.60</td>\n",
              "      <td>1</td>\n",
              "      <td>2</td>\n",
              "      <td>0</td>\n",
              "      <td>1</td>\n",
              "      <td>0.728851</td>\n",
              "      <td>35000</td>\n",
              "    </tr>\n",
              "    <tr>\n",
              "      <th>1</th>\n",
              "      <td>148877</td>\n",
              "      <td>1</td>\n",
              "      <td>23</td>\n",
              "      <td>2</td>\n",
              "      <td>16339</td>\n",
              "      <td>18</td>\n",
              "      <td>1.10</td>\n",
              "      <td>1</td>\n",
              "      <td>2</td>\n",
              "      <td>0</td>\n",
              "      <td>1</td>\n",
              "      <td>0.347385</td>\n",
              "      <td>38000</td>\n",
              "    </tr>\n",
              "    <tr>\n",
              "      <th>2</th>\n",
              "      <td>142019</td>\n",
              "      <td>1</td>\n",
              "      <td>54</td>\n",
              "      <td>2</td>\n",
              "      <td>15652</td>\n",
              "      <td>10</td>\n",
              "      <td>1.32</td>\n",
              "      <td>2</td>\n",
              "      <td>2</td>\n",
              "      <td>0</td>\n",
              "      <td>1</td>\n",
              "      <td>0.349705</td>\n",
              "      <td>38000</td>\n",
              "    </tr>\n",
              "    <tr>\n",
              "      <th>3</th>\n",
              "      <td>146816</td>\n",
              "      <td>0</td>\n",
              "      <td>52</td>\n",
              "      <td>2</td>\n",
              "      <td>16560</td>\n",
              "      <td>10</td>\n",
              "      <td>1.10</td>\n",
              "      <td>1</td>\n",
              "      <td>1</td>\n",
              "      <td>0</td>\n",
              "      <td>1</td>\n",
              "      <td>0.359232</td>\n",
              "      <td>28000</td>\n",
              "    </tr>\n",
              "    <tr>\n",
              "      <th>4</th>\n",
              "      <td>27699</td>\n",
              "      <td>0</td>\n",
              "      <td>63</td>\n",
              "      <td>5</td>\n",
              "      <td>9078</td>\n",
              "      <td>18</td>\n",
              "      <td>1.10</td>\n",
              "      <td>1</td>\n",
              "      <td>4</td>\n",
              "      <td>0</td>\n",
              "      <td>1</td>\n",
              "      <td>0.529368</td>\n",
              "      <td>30000</td>\n",
              "    </tr>\n",
              "    <tr>\n",
              "      <th>...</th>\n",
              "      <td>...</td>\n",
              "      <td>...</td>\n",
              "      <td>...</td>\n",
              "      <td>...</td>\n",
              "      <td>...</td>\n",
              "      <td>...</td>\n",
              "      <td>...</td>\n",
              "      <td>...</td>\n",
              "      <td>...</td>\n",
              "      <td>...</td>\n",
              "      <td>...</td>\n",
              "      <td>...</td>\n",
              "      <td>...</td>\n",
              "    </tr>\n",
              "    <tr>\n",
              "      <th>114394</th>\n",
              "      <td>119880</td>\n",
              "      <td>1</td>\n",
              "      <td>29</td>\n",
              "      <td>1</td>\n",
              "      <td>29678</td>\n",
              "      <td>10</td>\n",
              "      <td>1.60</td>\n",
              "      <td>2</td>\n",
              "      <td>1</td>\n",
              "      <td>0</td>\n",
              "      <td>1</td>\n",
              "      <td>0.721156</td>\n",
              "      <td>25000</td>\n",
              "    </tr>\n",
              "    <tr>\n",
              "      <th>114395</th>\n",
              "      <td>103695</td>\n",
              "      <td>1</td>\n",
              "      <td>29</td>\n",
              "      <td>1</td>\n",
              "      <td>23068</td>\n",
              "      <td>15</td>\n",
              "      <td>1.10</td>\n",
              "      <td>2</td>\n",
              "      <td>3</td>\n",
              "      <td>0</td>\n",
              "      <td>1</td>\n",
              "      <td>0.566393</td>\n",
              "      <td>30000</td>\n",
              "    </tr>\n",
              "    <tr>\n",
              "      <th>114396</th>\n",
              "      <td>131933</td>\n",
              "      <td>0</td>\n",
              "      <td>45</td>\n",
              "      <td>1</td>\n",
              "      <td>16418</td>\n",
              "      <td>10</td>\n",
              "      <td>1.10</td>\n",
              "      <td>1</td>\n",
              "      <td>1</td>\n",
              "      <td>0</td>\n",
              "      <td>3</td>\n",
              "      <td>0.327380</td>\n",
              "      <td>30400</td>\n",
              "    </tr>\n",
              "    <tr>\n",
              "      <th>114397</th>\n",
              "      <td>146868</td>\n",
              "      <td>0</td>\n",
              "      <td>49</td>\n",
              "      <td>1</td>\n",
              "      <td>12169</td>\n",
              "      <td>10</td>\n",
              "      <td>1.40</td>\n",
              "      <td>1</td>\n",
              "      <td>1</td>\n",
              "      <td>0</td>\n",
              "      <td>1</td>\n",
              "      <td>0.467395</td>\n",
              "      <td>16000</td>\n",
              "    </tr>\n",
              "    <tr>\n",
              "      <th>114398</th>\n",
              "      <td>121959</td>\n",
              "      <td>1</td>\n",
              "      <td>57</td>\n",
              "      <td>1</td>\n",
              "      <td>8579</td>\n",
              "      <td>10</td>\n",
              "      <td>1.10</td>\n",
              "      <td>1</td>\n",
              "      <td>4</td>\n",
              "      <td>0</td>\n",
              "      <td>7</td>\n",
              "      <td>0.355289</td>\n",
              "      <td>30000</td>\n",
              "    </tr>\n",
              "  </tbody>\n",
              "</table>\n",
              "<p>114399 rows × 13 columns</p>\n",
              "</div>"
            ],
            "text/plain": [
              "            id  gender  age  marital_status  credit_sum  credit_month  \\\n",
              "0        26031       1   24               2       24000            10   \n",
              "1       148877       1   23               2       16339            18   \n",
              "2       142019       1   54               2       15652            10   \n",
              "3       146816       0   52               2       16560            10   \n",
              "4        27699       0   63               5        9078            18   \n",
              "...        ...     ...  ...             ...         ...           ...   \n",
              "114394  119880       1   29               1       29678            10   \n",
              "114395  103695       1   29               1       23068            15   \n",
              "114396  131933       0   45               1       16418            10   \n",
              "114397  146868       0   49               1       12169            10   \n",
              "114398  121959       1   57               1        8579            10   \n",
              "\n",
              "        tariff_id  education  credit_count  overdue_credit_count  job_pos  \\\n",
              "0            1.60          1             2                     0        1   \n",
              "1            1.10          1             2                     0        1   \n",
              "2            1.32          2             2                     0        1   \n",
              "3            1.10          1             1                     0        1   \n",
              "4            1.10          1             4                     0        1   \n",
              "...           ...        ...           ...                   ...      ...   \n",
              "114394       1.60          2             1                     0        1   \n",
              "114395       1.10          2             3                     0        1   \n",
              "114396       1.10          1             1                     0        3   \n",
              "114397       1.40          1             1                     0        1   \n",
              "114398       1.10          1             4                     0        7   \n",
              "\n",
              "        credit_score  income  \n",
              "0           0.728851   35000  \n",
              "1           0.347385   38000  \n",
              "2           0.349705   38000  \n",
              "3           0.359232   28000  \n",
              "4           0.529368   30000  \n",
              "...              ...     ...  \n",
              "114394      0.721156   25000  \n",
              "114395      0.566393   30000  \n",
              "114396      0.327380   30400  \n",
              "114397      0.467395   16000  \n",
              "114398      0.355289   30000  \n",
              "\n",
              "[114399 rows x 13 columns]"
            ]
          },
          "execution_count": 17,
          "metadata": {},
          "output_type": "execute_result"
        }
      ],
      "source": [
        "X_train"
      ]
    },
    {
      "cell_type": "code",
      "execution_count": null,
      "metadata": {
        "id": "gOqVvXZ2VrPi"
      },
      "outputs": [],
      "source": [
        "X_test.loc[((X_test.age >= 18) & (X_test.age <= 20)),  'age'] = 1\n",
        "X_test.loc[((X_test.age >= 21) & (X_test.age <= 23)),  'age'] = 2\n",
        "X_test.loc[((X_test.age >= 24) & (X_test.age <= 26)),  'age'] = 3\n",
        "X_test.loc[((X_test.age >= 27) & (X_test.age <= 30)),  'age'] = 4\n",
        "X_test.loc[((X_test.age >= 31) & (X_test.age <= 34)),  'age'] = 5\n",
        "X_test.loc[((X_test.age >= 35) & (X_test.age <= 37)),  'age'] = 6\n",
        "X_test.loc[((X_test.age >= 38) & (X_test.age <= 42)),  'age'] = 7\n",
        "X_test.loc[((X_test.age >= 43) & (X_test.age <= 44)),  'age'] = 8\n",
        "X_test.loc[((X_test.age >= 45) & (X_test.age <= 46)),  'age'] = 9\n",
        "X_test.loc[((X_test.age >= 47) & (X_test.age <= 50)),  'age'] = 10\n",
        "X_test.loc[((X_test.age >= 51) & (X_test.age <= 52)),  'age'] = 11\n",
        "X_test.loc[((X_test.age >= 53) & (X_test.age <= 54)),  'age'] = 12\n",
        "X_test.loc[((X_test.age >= 55) & (X_test.age <= 56)),  'age'] = 13\n",
        "X_test.loc[((X_test.age >= 57) & (X_test.age <= 59)),  'age'] = 14\n",
        "X_test.loc[((X_test.age >= 60) & (X_test.age <= 63)),  'age'] = 15\n",
        "X_test.loc[((X_test.age >= 64) & (X_test.age <= 66)),  'age'] = 16\n",
        "X_test.loc[((X_test.age >= 67) & (X_test.age <= 70)),  'age'] = 17\n",
        "X_test.loc[((X_test.age >= 71) & (X_test.age <= 71)),  'age'] = 18"
      ]
    },
    {
      "cell_type": "code",
      "execution_count": null,
      "metadata": {
        "colab": {
          "base_uri": "https://localhost:8080/"
        },
        "id": "OL3v4eAn6msA",
        "outputId": "5c54c8b4-ceef-4435-c5e3-5b017d8d7546"
      },
      "outputs": [
        {
          "data": {
            "text/plain": [
              "array([[-0.96746596, -1.59629004,  0.37814137, ..., -0.40100365,\n",
              "        -0.39327902, -0.40729547],\n",
              "       [-0.96746596,  2.5767847 ,  3.70495491, ..., -1.28607044,\n",
              "        -1.20713226, -0.75811575],\n",
              "       [ 1.0336281 ,  0.19217056, -0.73079648, ..., -0.40100365,\n",
              "        -1.16191819,  4.40395407],\n",
              "       ...,\n",
              "       [ 1.0336281 ,  1.6825544 , -0.73079648, ..., -1.28607044,\n",
              "         0.42057421, -0.54762359],\n",
              "       [-0.96746596, -0.70205974,  0.37814137, ..., -1.04468859,\n",
              "        -0.89063378, -0.0865455 ],\n",
              "       [-0.96746596,  0.7883241 ,  0.37814137, ..., -0.1596218 ,\n",
              "         1.23442744, -0.64785795]])"
            ]
          },
          "execution_count": 23,
          "metadata": {},
          "output_type": "execute_result"
        }
      ],
      "source": [
        "test_scaler = StandardScaler().fit(X_test)\n",
        "# scaler\n",
        "X_test_scaled = test_scaler.transform(X_test)\n",
        "X_test_scaled"
      ]
    },
    {
      "cell_type": "code",
      "execution_count": null,
      "metadata": {
        "colab": {
          "base_uri": "https://localhost:8080/"
        },
        "id": "EmjzKUFk_737",
        "outputId": "71846762-833a-4147-a4c0-fb407dd408b8"
      },
      "outputs": [
        {
          "data": {
            "text/plain": [
              "array([[0.        , 0.        , 0.25      , ..., 0.40785614, 0.04663212,\n",
              "        0.03333441],\n",
              "       [0.        , 0.82352941, 1.        , ..., 0.29962387, 0.        ,\n",
              "        0.0236122 ],\n",
              "       [1.        , 0.35294118, 0.        , ..., 0.40531465, 0.00259067,\n",
              "        0.16666759],\n",
              "       ...,\n",
              "       [1.        , 0.64705882, 0.        , ..., 0.29976218, 0.09326425,\n",
              "        0.02944552],\n",
              "       [0.        , 0.17647059, 0.25      , ..., 0.3256189 , 0.01813472,\n",
              "        0.04222329],\n",
              "       [0.        , 0.47058824, 0.25      , ..., 0.43477518, 0.13989637,\n",
              "        0.02666775]])"
            ]
          },
          "execution_count": 25,
          "metadata": {},
          "output_type": "execute_result"
        }
      ],
      "source": [
        "X_test_minmax = min_max_scaler.fit_transform(X_test)\n",
        "X_test_minmax"
      ]
    },
    {
      "cell_type": "markdown",
      "metadata": {
        "id": "cRrqakFYLLwE"
      },
      "source": [
        "Предскажем значения для тестовой выборки"
      ]
    },
    {
      "cell_type": "code",
      "execution_count": null,
      "metadata": {
        "id": "8Z8TbmulLLwF"
      },
      "outputs": [],
      "source": [
        "X_lognormal_test = pt.fit_transform(X_test_minmax)"
      ]
    },
    {
      "cell_type": "code",
      "execution_count": null,
      "metadata": {
        "id": "x6AIWtLDLLwF"
      },
      "outputs": [],
      "source": [
        "y_pred = clf.predict(X_test_scaled)"
      ]
    },
    {
      "cell_type": "code",
      "execution_count": null,
      "metadata": {
        "id": "V_k0Cvo6LLwF",
        "outputId": "e367c3b4-64a5-42ed-c80d-29523edf599a"
      },
      "outputs": [
        {
          "name": "stdout",
          "output_type": "stream",
          "text": [
            "ssssssssssssssssssssssssssssssssssssssssssssssssss\n"
          ]
        }
      ],
      "source": [
        "print(\"ssssssssssssssssssssssssssssssssssssssssssssssssss\")"
      ]
    },
    {
      "cell_type": "code",
      "execution_count": null,
      "metadata": {
        "colab": {
          "base_uri": "https://localhost:8080/"
        },
        "id": "vH40knoVLLwF",
        "outputId": "41b930ef-b1d2-4d7a-8eb6-c3e2b3ad583f"
      },
      "outputs": [
        {
          "data": {
            "text/plain": [
              "array([False,  True, False, ..., False, False, False])"
            ]
          },
          "execution_count": 28,
          "metadata": {},
          "output_type": "execute_result"
        }
      ],
      "source": [
        "y_pred"
      ]
    },
    {
      "cell_type": "markdown",
      "metadata": {
        "id": "vnazvAW5LLwF"
      },
      "source": [
        "Создадим отдельный датасет для отправки на kaggle. \n",
        "\n",
        "Данный датасет будет содержать только два необходимых столбца — id и наш ответ."
      ]
    },
    {
      "cell_type": "code",
      "execution_count": null,
      "metadata": {
        "colab": {
          "base_uri": "https://localhost:8080/",
          "height": 206
        },
        "id": "yAXgukQeLLwG",
        "outputId": "12079817-0ff3-48f0-8fe9-9fe67ff7e6ff"
      },
      "outputs": [
        {
          "data": {
            "text/html": [
              "\n",
              "  <div id=\"df-cf07f958-bab9-4add-bd97-a5069501dcd4\">\n",
              "    <div class=\"colab-df-container\">\n",
              "      <div>\n",
              "<style scoped>\n",
              "    .dataframe tbody tr th:only-of-type {\n",
              "        vertical-align: middle;\n",
              "    }\n",
              "\n",
              "    .dataframe tbody tr th {\n",
              "        vertical-align: top;\n",
              "    }\n",
              "\n",
              "    .dataframe thead th {\n",
              "        text-align: right;\n",
              "    }\n",
              "</style>\n",
              "<table border=\"1\" class=\"dataframe\">\n",
              "  <thead>\n",
              "    <tr style=\"text-align: right;\">\n",
              "      <th></th>\n",
              "      <th>id</th>\n",
              "      <th>gender</th>\n",
              "      <th>age</th>\n",
              "      <th>marital_status</th>\n",
              "      <th>credit_sum</th>\n",
              "      <th>credit_month</th>\n",
              "      <th>tariff_id</th>\n",
              "      <th>education</th>\n",
              "      <th>credit_count</th>\n",
              "      <th>overdue_credit_count</th>\n",
              "      <th>job_pos</th>\n",
              "      <th>credit_score</th>\n",
              "      <th>region</th>\n",
              "      <th>income</th>\n",
              "    </tr>\n",
              "  </thead>\n",
              "  <tbody>\n",
              "    <tr>\n",
              "      <th>0</th>\n",
              "      <td>39162</td>\n",
              "      <td>F</td>\n",
              "      <td>18</td>\n",
              "      <td>UNM</td>\n",
              "      <td>39469,00</td>\n",
              "      <td>6</td>\n",
              "      <td>1.44</td>\n",
              "      <td>GRD</td>\n",
              "      <td>NaN</td>\n",
              "      <td>NaN</td>\n",
              "      <td>SPC</td>\n",
              "      <td>0,424628</td>\n",
              "      <td>САНКТ-ПЕТЕРБУРГ Г</td>\n",
              "      <td>30000.0</td>\n",
              "    </tr>\n",
              "    <tr>\n",
              "      <th>1</th>\n",
              "      <td>10673</td>\n",
              "      <td>F</td>\n",
              "      <td>63</td>\n",
              "      <td>WID</td>\n",
              "      <td>16693,00</td>\n",
              "      <td>10</td>\n",
              "      <td>1.32</td>\n",
              "      <td>GRD</td>\n",
              "      <td>2.0</td>\n",
              "      <td>0.0</td>\n",
              "      <td>SPC</td>\n",
              "      <td>0,311945</td>\n",
              "      <td>ОБЛ ЛЕНИНГРАДСКАЯ</td>\n",
              "      <td>21250.0</td>\n",
              "    </tr>\n",
              "    <tr>\n",
              "      <th>2</th>\n",
              "      <td>121409</td>\n",
              "      <td>M</td>\n",
              "      <td>42</td>\n",
              "      <td>MAR</td>\n",
              "      <td>60260,00</td>\n",
              "      <td>10</td>\n",
              "      <td>1.10</td>\n",
              "      <td>GRD</td>\n",
              "      <td>5.0</td>\n",
              "      <td>0.0</td>\n",
              "      <td>SPC</td>\n",
              "      <td>0,421982</td>\n",
              "      <td>МОСКВА Г</td>\n",
              "      <td>150000.0</td>\n",
              "    </tr>\n",
              "    <tr>\n",
              "      <th>3</th>\n",
              "      <td>23504</td>\n",
              "      <td>M</td>\n",
              "      <td>41</td>\n",
              "      <td>MAR</td>\n",
              "      <td>32479,00</td>\n",
              "      <td>12</td>\n",
              "      <td>1.10</td>\n",
              "      <td>GRD</td>\n",
              "      <td>1.0</td>\n",
              "      <td>0.0</td>\n",
              "      <td>DIR</td>\n",
              "      <td>0,406572</td>\n",
              "      <td>ТАТАРСТАН РЕСП</td>\n",
              "      <td>150000.0</td>\n",
              "    </tr>\n",
              "    <tr>\n",
              "      <th>4</th>\n",
              "      <td>69269</td>\n",
              "      <td>F</td>\n",
              "      <td>24</td>\n",
              "      <td>UNM</td>\n",
              "      <td>8159,00</td>\n",
              "      <td>12</td>\n",
              "      <td>1.10</td>\n",
              "      <td>SCH</td>\n",
              "      <td>2.0</td>\n",
              "      <td>0.0</td>\n",
              "      <td>SPC</td>\n",
              "      <td>0,418243</td>\n",
              "      <td>ТВЕРСКАЯ ОБЛ</td>\n",
              "      <td>16000.0</td>\n",
              "    </tr>\n",
              "  </tbody>\n",
              "</table>\n",
              "</div>\n",
              "      <button class=\"colab-df-convert\" onclick=\"convertToInteractive('df-cf07f958-bab9-4add-bd97-a5069501dcd4')\"\n",
              "              title=\"Convert this dataframe to an interactive table.\"\n",
              "              style=\"display:none;\">\n",
              "        \n",
              "  <svg xmlns=\"http://www.w3.org/2000/svg\" height=\"24px\"viewBox=\"0 0 24 24\"\n",
              "       width=\"24px\">\n",
              "    <path d=\"M0 0h24v24H0V0z\" fill=\"none\"/>\n",
              "    <path d=\"M18.56 5.44l.94 2.06.94-2.06 2.06-.94-2.06-.94-.94-2.06-.94 2.06-2.06.94zm-11 1L8.5 8.5l.94-2.06 2.06-.94-2.06-.94L8.5 2.5l-.94 2.06-2.06.94zm10 10l.94 2.06.94-2.06 2.06-.94-2.06-.94-.94-2.06-.94 2.06-2.06.94z\"/><path d=\"M17.41 7.96l-1.37-1.37c-.4-.4-.92-.59-1.43-.59-.52 0-1.04.2-1.43.59L10.3 9.45l-7.72 7.72c-.78.78-.78 2.05 0 2.83L4 21.41c.39.39.9.59 1.41.59.51 0 1.02-.2 1.41-.59l7.78-7.78 2.81-2.81c.8-.78.8-2.07 0-2.86zM5.41 20L4 18.59l7.72-7.72 1.47 1.35L5.41 20z\"/>\n",
              "  </svg>\n",
              "      </button>\n",
              "      \n",
              "  <style>\n",
              "    .colab-df-container {\n",
              "      display:flex;\n",
              "      flex-wrap:wrap;\n",
              "      gap: 12px;\n",
              "    }\n",
              "\n",
              "    .colab-df-convert {\n",
              "      background-color: #E8F0FE;\n",
              "      border: none;\n",
              "      border-radius: 50%;\n",
              "      cursor: pointer;\n",
              "      display: none;\n",
              "      fill: #1967D2;\n",
              "      height: 32px;\n",
              "      padding: 0 0 0 0;\n",
              "      width: 32px;\n",
              "    }\n",
              "\n",
              "    .colab-df-convert:hover {\n",
              "      background-color: #E2EBFA;\n",
              "      box-shadow: 0px 1px 2px rgba(60, 64, 67, 0.3), 0px 1px 3px 1px rgba(60, 64, 67, 0.15);\n",
              "      fill: #174EA6;\n",
              "    }\n",
              "\n",
              "    [theme=dark] .colab-df-convert {\n",
              "      background-color: #3B4455;\n",
              "      fill: #D2E3FC;\n",
              "    }\n",
              "\n",
              "    [theme=dark] .colab-df-convert:hover {\n",
              "      background-color: #434B5C;\n",
              "      box-shadow: 0px 1px 3px 1px rgba(0, 0, 0, 0.15);\n",
              "      filter: drop-shadow(0px 1px 2px rgba(0, 0, 0, 0.3));\n",
              "      fill: #FFFFFF;\n",
              "    }\n",
              "  </style>\n",
              "\n",
              "      <script>\n",
              "        const buttonEl =\n",
              "          document.querySelector('#df-cf07f958-bab9-4add-bd97-a5069501dcd4 button.colab-df-convert');\n",
              "        buttonEl.style.display =\n",
              "          google.colab.kernel.accessAllowed ? 'block' : 'none';\n",
              "\n",
              "        async function convertToInteractive(key) {\n",
              "          const element = document.querySelector('#df-cf07f958-bab9-4add-bd97-a5069501dcd4');\n",
              "          const dataTable =\n",
              "            await google.colab.kernel.invokeFunction('convertToInteractive',\n",
              "                                                     [key], {});\n",
              "          if (!dataTable) return;\n",
              "\n",
              "          const docLinkHtml = 'Like what you see? Visit the ' +\n",
              "            '<a target=\"_blank\" href=https://colab.research.google.com/notebooks/data_table.ipynb>data table notebook</a>'\n",
              "            + ' to learn more about interactive tables.';\n",
              "          element.innerHTML = '';\n",
              "          dataTable['output_type'] = 'display_data';\n",
              "          await google.colab.output.renderOutput(dataTable, element);\n",
              "          const docLink = document.createElement('div');\n",
              "          docLink.innerHTML = docLinkHtml;\n",
              "          element.appendChild(docLink);\n",
              "        }\n",
              "      </script>\n",
              "    </div>\n",
              "  </div>\n",
              "  "
            ],
            "text/plain": [
              "       id gender  age marital_status credit_sum  credit_month  tariff_id  \\\n",
              "0   39162      F   18            UNM   39469,00             6       1.44   \n",
              "1   10673      F   63            WID   16693,00            10       1.32   \n",
              "2  121409      M   42            MAR   60260,00            10       1.10   \n",
              "3   23504      M   41            MAR   32479,00            12       1.10   \n",
              "4   69269      F   24            UNM    8159,00            12       1.10   \n",
              "\n",
              "  education  credit_count  overdue_credit_count job_pos credit_score  \\\n",
              "0       GRD           NaN                   NaN     SPC     0,424628   \n",
              "1       GRD           2.0                   0.0     SPC     0,311945   \n",
              "2       GRD           5.0                   0.0     SPC     0,421982   \n",
              "3       GRD           1.0                   0.0     DIR     0,406572   \n",
              "4       SCH           2.0                   0.0     SPC     0,418243   \n",
              "\n",
              "              region    income  \n",
              "0  САНКТ-ПЕТЕРБУРГ Г   30000.0  \n",
              "1  ОБЛ ЛЕНИНГРАДСКАЯ   21250.0  \n",
              "2           МОСКВА Г  150000.0  \n",
              "3     ТАТАРСТАН РЕСП  150000.0  \n",
              "4       ТВЕРСКАЯ ОБЛ   16000.0  "
            ]
          },
          "execution_count": 25,
          "metadata": {},
          "output_type": "execute_result"
        }
      ],
      "source": [
        "df_test = pd.read_csv('credit_test.csv')\n",
        "df_test.head()"
      ]
    },
    {
      "cell_type": "code",
      "execution_count": null,
      "metadata": {
        "colab": {
          "base_uri": "https://localhost:8080/",
          "height": 313
        },
        "id": "i535Qn__LLwH",
        "outputId": "bb7b6e21-751b-4ca2-9f0b-6e48822701ac"
      },
      "outputs": [
        {
          "name": "stderr",
          "output_type": "stream",
          "text": [
            "/usr/local/lib/python3.7/dist-packages/ipykernel_launcher.py:2: SettingWithCopyWarning: \n",
            "A value is trying to be set on a copy of a slice from a DataFrame.\n",
            "Try using .loc[row_indexer,col_indexer] = value instead\n",
            "\n",
            "See the caveats in the documentation: https://pandas.pydata.org/pandas-docs/stable/user_guide/indexing.html#returning-a-view-versus-a-copy\n",
            "  \n"
          ]
        },
        {
          "data": {
            "text/html": [
              "\n",
              "  <div id=\"df-e50c0e46-2020-45cc-b884-46459fbc34bc\">\n",
              "    <div class=\"colab-df-container\">\n",
              "      <div>\n",
              "<style scoped>\n",
              "    .dataframe tbody tr th:only-of-type {\n",
              "        vertical-align: middle;\n",
              "    }\n",
              "\n",
              "    .dataframe tbody tr th {\n",
              "        vertical-align: top;\n",
              "    }\n",
              "\n",
              "    .dataframe thead th {\n",
              "        text-align: right;\n",
              "    }\n",
              "</style>\n",
              "<table border=\"1\" class=\"dataframe\">\n",
              "  <thead>\n",
              "    <tr style=\"text-align: right;\">\n",
              "      <th></th>\n",
              "      <th>id</th>\n",
              "      <th>opened</th>\n",
              "    </tr>\n",
              "  </thead>\n",
              "  <tbody>\n",
              "    <tr>\n",
              "      <th>0</th>\n",
              "      <td>39162</td>\n",
              "      <td>False</td>\n",
              "    </tr>\n",
              "    <tr>\n",
              "      <th>1</th>\n",
              "      <td>10673</td>\n",
              "      <td>True</td>\n",
              "    </tr>\n",
              "    <tr>\n",
              "      <th>2</th>\n",
              "      <td>121409</td>\n",
              "      <td>False</td>\n",
              "    </tr>\n",
              "    <tr>\n",
              "      <th>3</th>\n",
              "      <td>23504</td>\n",
              "      <td>False</td>\n",
              "    </tr>\n",
              "    <tr>\n",
              "      <th>4</th>\n",
              "      <td>69269</td>\n",
              "      <td>True</td>\n",
              "    </tr>\n",
              "  </tbody>\n",
              "</table>\n",
              "</div>\n",
              "      <button class=\"colab-df-convert\" onclick=\"convertToInteractive('df-e50c0e46-2020-45cc-b884-46459fbc34bc')\"\n",
              "              title=\"Convert this dataframe to an interactive table.\"\n",
              "              style=\"display:none;\">\n",
              "        \n",
              "  <svg xmlns=\"http://www.w3.org/2000/svg\" height=\"24px\"viewBox=\"0 0 24 24\"\n",
              "       width=\"24px\">\n",
              "    <path d=\"M0 0h24v24H0V0z\" fill=\"none\"/>\n",
              "    <path d=\"M18.56 5.44l.94 2.06.94-2.06 2.06-.94-2.06-.94-.94-2.06-.94 2.06-2.06.94zm-11 1L8.5 8.5l.94-2.06 2.06-.94-2.06-.94L8.5 2.5l-.94 2.06-2.06.94zm10 10l.94 2.06.94-2.06 2.06-.94-2.06-.94-.94-2.06-.94 2.06-2.06.94z\"/><path d=\"M17.41 7.96l-1.37-1.37c-.4-.4-.92-.59-1.43-.59-.52 0-1.04.2-1.43.59L10.3 9.45l-7.72 7.72c-.78.78-.78 2.05 0 2.83L4 21.41c.39.39.9.59 1.41.59.51 0 1.02-.2 1.41-.59l7.78-7.78 2.81-2.81c.8-.78.8-2.07 0-2.86zM5.41 20L4 18.59l7.72-7.72 1.47 1.35L5.41 20z\"/>\n",
              "  </svg>\n",
              "      </button>\n",
              "      \n",
              "  <style>\n",
              "    .colab-df-container {\n",
              "      display:flex;\n",
              "      flex-wrap:wrap;\n",
              "      gap: 12px;\n",
              "    }\n",
              "\n",
              "    .colab-df-convert {\n",
              "      background-color: #E8F0FE;\n",
              "      border: none;\n",
              "      border-radius: 50%;\n",
              "      cursor: pointer;\n",
              "      display: none;\n",
              "      fill: #1967D2;\n",
              "      height: 32px;\n",
              "      padding: 0 0 0 0;\n",
              "      width: 32px;\n",
              "    }\n",
              "\n",
              "    .colab-df-convert:hover {\n",
              "      background-color: #E2EBFA;\n",
              "      box-shadow: 0px 1px 2px rgba(60, 64, 67, 0.3), 0px 1px 3px 1px rgba(60, 64, 67, 0.15);\n",
              "      fill: #174EA6;\n",
              "    }\n",
              "\n",
              "    [theme=dark] .colab-df-convert {\n",
              "      background-color: #3B4455;\n",
              "      fill: #D2E3FC;\n",
              "    }\n",
              "\n",
              "    [theme=dark] .colab-df-convert:hover {\n",
              "      background-color: #434B5C;\n",
              "      box-shadow: 0px 1px 3px 1px rgba(0, 0, 0, 0.15);\n",
              "      filter: drop-shadow(0px 1px 2px rgba(0, 0, 0, 0.3));\n",
              "      fill: #FFFFFF;\n",
              "    }\n",
              "  </style>\n",
              "\n",
              "      <script>\n",
              "        const buttonEl =\n",
              "          document.querySelector('#df-e50c0e46-2020-45cc-b884-46459fbc34bc button.colab-df-convert');\n",
              "        buttonEl.style.display =\n",
              "          google.colab.kernel.accessAllowed ? 'block' : 'none';\n",
              "\n",
              "        async function convertToInteractive(key) {\n",
              "          const element = document.querySelector('#df-e50c0e46-2020-45cc-b884-46459fbc34bc');\n",
              "          const dataTable =\n",
              "            await google.colab.kernel.invokeFunction('convertToInteractive',\n",
              "                                                     [key], {});\n",
              "          if (!dataTable) return;\n",
              "\n",
              "          const docLinkHtml = 'Like what you see? Visit the ' +\n",
              "            '<a target=\"_blank\" href=https://colab.research.google.com/notebooks/data_table.ipynb>data table notebook</a>'\n",
              "            + ' to learn more about interactive tables.';\n",
              "          element.innerHTML = '';\n",
              "          dataTable['output_type'] = 'display_data';\n",
              "          await google.colab.output.renderOutput(dataTable, element);\n",
              "          const docLink = document.createElement('div');\n",
              "          docLink.innerHTML = docLinkHtml;\n",
              "          element.appendChild(docLink);\n",
              "        }\n",
              "      </script>\n",
              "    </div>\n",
              "  </div>\n",
              "  "
            ],
            "text/plain": [
              "       id  opened\n",
              "0   39162   False\n",
              "1   10673    True\n",
              "2  121409   False\n",
              "3   23504   False\n",
              "4   69269    True"
            ]
          },
          "execution_count": 26,
          "metadata": {},
          "output_type": "execute_result"
        }
      ],
      "source": [
        "df_kaggle = df_test[['id',]]\n",
        "df_kaggle['opened'] = y_pred.astype(bool)\n",
        "df_kaggle.head()"
      ]
    },
    {
      "cell_type": "markdown",
      "metadata": {
        "id": "4CbisnOxLLwH"
      },
      "source": [
        "Сохраним полученный результат в .csv файл для отправки на kaggle"
      ]
    },
    {
      "cell_type": "code",
      "execution_count": null,
      "metadata": {
        "id": "UHXzxzdYLLwJ"
      },
      "outputs": [],
      "source": [
        "df_kaggle.to_csv('my_submission.csv', index=False)"
      ]
    },
    {
      "cell_type": "code",
      "execution_count": null,
      "metadata": {
        "id": "XT_0sYtxLLwJ"
      },
      "outputs": [],
      "source": []
    },
    {
      "cell_type": "code",
      "execution_count": null,
      "metadata": {
        "id": "kwSRbXiZLLwJ"
      },
      "outputs": [],
      "source": []
    }
  ],
  "metadata": {
    "colab": {
      "provenance": []
    },
    "kernelspec": {
      "display_name": "Python 3",
      "language": "python",
      "name": "python3"
    },
    "language_info": {
      "codemirror_mode": {
        "name": "ipython",
        "version": 3
      },
      "file_extension": ".py",
      "mimetype": "text/x-python",
      "name": "python",
      "nbconvert_exporter": "python",
      "pygments_lexer": "ipython3",
      "version": "3.10.2"
    }
  },
  "nbformat": 4,
  "nbformat_minor": 0
}